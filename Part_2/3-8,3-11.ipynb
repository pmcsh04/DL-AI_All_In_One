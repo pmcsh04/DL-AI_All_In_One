{
 "cells": [
  {
   "cell_type": "code",
   "execution_count": 13,
   "metadata": {},
   "outputs": [],
   "source": [
    "import tensorflow as tf\n",
    "from tensorflow.keras import layers\n",
    "\n",
    "from tensorflow.keras import datasets"
   ]
  },
  {
   "cell_type": "code",
   "execution_count": 14,
   "metadata": {},
   "outputs": [],
   "source": [
    "(train_x, train_y), (test_x, test_y) = datasets.mnist.load_data()"
   ]
  },
  {
   "cell_type": "code",
   "execution_count": 15,
   "metadata": {},
   "outputs": [],
   "source": [
    "inputs = layers.Input((28, 28, 1))\n",
    "\n",
    "# Feature Extraction\n",
    "net = layers.Conv2D(32,(3,3),padding='SAME')(inputs)\n",
    "net = layers.Activation('relu')(net)\n",
    "net = layers.Conv2D(32,(3,3),padding='SAME')(net)\n",
    "net = layers.Activation('relu')(net)\n",
    "net = layers.MaxPool2D(pool_size = (2,2))(net)\n",
    "net = layers.Dropout(0.25)(net)\n",
    "\n",
    "net = layers.Conv2D(64,(3,3),padding='SAME')(net)\n",
    "net = layers.Activation('relu')(net)\n",
    "net = layers.Conv2D(64,(3,3),padding='SAME')(net)\n",
    "net = layers.Activation('relu')(net)\n",
    "net = layers.MaxPool2D(pool_size=(2,2))(net)\n",
    "net = layers.Dropout(0.25)(net)\n",
    "\n",
    "#Fully Connected\n",
    "net = layers.Flatten()(net)\n",
    "net = layers.Dense(512)(net)\n",
    "net = layers.Activation('relu')(net)\n",
    "net = layers.Dropout(0.5)(net)\n",
    "net = layers.Dense(10)(net) # 클래스의 개수에 맞게 10개로 !\n",
    "net = layers.Activation('softmax')(net)\n",
    "\n",
    "model = tf.keras.Model(inputs= inputs, outputs=net, name='Basic_CNN')"
   ]
  },
  {
   "cell_type": "code",
   "execution_count": 4,
   "metadata": {},
   "outputs": [],
   "source": [
    "loss = 'binary_crossentropy'\n",
    "loss = 'categorical_crossentropy'"
   ]
  },
  {
   "cell_type": "code",
   "execution_count": null,
   "metadata": {},
   "outputs": [],
   "source": []
  },
  {
   "cell_type": "code",
   "execution_count": 8,
   "metadata": {},
   "outputs": [],
   "source": [
    "loss_fun = tf.keras.losses.sparse_categorical_crossentropy"
   ]
  },
  {
   "cell_type": "code",
   "execution_count": null,
   "metadata": {},
   "outputs": [],
   "source": []
  },
  {
   "cell_type": "code",
   "execution_count": 6,
   "metadata": {},
   "outputs": [
    {
     "data": {
      "text/plain": [
       "<function tensorflow.python.keras.losses.categorical_crossentropy(y_true, y_pred, from_logits=False, label_smoothing=0)>"
      ]
     },
     "execution_count": 6,
     "metadata": {},
     "output_type": "execute_result"
    }
   ],
   "source": [
    "tf.keras.losses.categorical_crossentropy"
   ]
  },
  {
   "cell_type": "code",
   "execution_count": 7,
   "metadata": {},
   "outputs": [
    {
     "data": {
      "text/plain": [
       "<function tensorflow.python.keras.losses.binary_crossentropy(y_true, y_pred, from_logits=False, label_smoothing=0)>"
      ]
     },
     "execution_count": 7,
     "metadata": {},
     "output_type": "execute_result"
    }
   ],
   "source": [
    "tf.keras.losses.binary_crossentropy"
   ]
  },
  {
   "cell_type": "code",
   "execution_count": 9,
   "metadata": {},
   "outputs": [],
   "source": [
    "metrics = ['accuracy']"
   ]
  },
  {
   "cell_type": "code",
   "execution_count": null,
   "metadata": {},
   "outputs": [],
   "source": [
    "tf.keras.metrics.Accuracy()"
   ]
  },
  {
   "cell_type": "code",
   "execution_count": 11,
   "metadata": {},
   "outputs": [],
   "source": [
    "optm = tf.keras.optimizers.Adam()"
   ]
  },
  {
   "cell_type": "code",
   "execution_count": 25,
   "metadata": {},
   "outputs": [],
   "source": [
    "model.compile(optimizer=tf.keras.optimizers.Adam(), \n",
    "              loss='sparse_categorical_crossentropy', \n",
    "              metrics=[tf.keras.metrics.SparseCategoricalAccuracy()])"
   ]
  },
  {
   "cell_type": "code",
   "execution_count": null,
   "metadata": {},
   "outputs": [],
   "source": []
  },
  {
   "cell_type": "code",
   "execution_count": 26,
   "metadata": {},
   "outputs": [
    {
     "data": {
      "text/plain": [
       "((60000, 28, 28, 1), (60000,))"
      ]
     },
     "execution_count": 26,
     "metadata": {},
     "output_type": "execute_result"
    }
   ],
   "source": [
    "train_x.shape, train_y.shape"
   ]
  },
  {
   "cell_type": "code",
   "execution_count": 27,
   "metadata": {},
   "outputs": [
    {
     "data": {
      "text/plain": [
       "((10000, 28, 28, 1), (10000,))"
      ]
     },
     "execution_count": 27,
     "metadata": {},
     "output_type": "execute_result"
    }
   ],
   "source": [
    "test_x.shape, test_y.shape"
   ]
  },
  {
   "cell_type": "code",
   "execution_count": 5,
   "metadata": {},
   "outputs": [],
   "source": [
    "import numpy as np"
   ]
  },
  {
   "cell_type": "code",
   "execution_count": 17,
   "metadata": {},
   "outputs": [
    {
     "data": {
      "text/plain": [
       "(60000, 28, 28, 1)"
      ]
     },
     "execution_count": 17,
     "metadata": {},
     "output_type": "execute_result"
    }
   ],
   "source": [
    "np.expand_dims(train_x, -1).shape"
   ]
  },
  {
   "cell_type": "code",
   "execution_count": 18,
   "metadata": {},
   "outputs": [],
   "source": [
    "train_x = train_x[..., tf.newaxis] # 차원수 맞추기\n",
    "test_x = test_x[..., tf.newaxis] # 차원수 맞추기"
   ]
  },
  {
   "cell_type": "code",
   "execution_count": 19,
   "metadata": {},
   "outputs": [
    {
     "data": {
      "text/plain": [
       "(60000, 28, 28, 1)"
      ]
     },
     "execution_count": 19,
     "metadata": {},
     "output_type": "execute_result"
    }
   ],
   "source": [
    "train_x.shape"
   ]
  },
  {
   "cell_type": "code",
   "execution_count": 28,
   "metadata": {},
   "outputs": [
    {
     "data": {
      "text/plain": [
       "(0.0, 1.0)"
      ]
     },
     "execution_count": 28,
     "metadata": {},
     "output_type": "execute_result"
    }
   ],
   "source": [
    "np.min(train_x), np.max(train_x)"
   ]
  },
  {
   "cell_type": "code",
   "execution_count": 21,
   "metadata": {},
   "outputs": [],
   "source": [
    "# Rescale 해주기\n",
    "\n",
    "train_x = train_x / 255.\n",
    "test_x = test_x / 255."
   ]
  },
  {
   "cell_type": "code",
   "execution_count": 22,
   "metadata": {},
   "outputs": [
    {
     "data": {
      "text/plain": [
       "(0.0, 1.0)"
      ]
     },
     "execution_count": 22,
     "metadata": {},
     "output_type": "execute_result"
    }
   ],
   "source": [
    "np.min(train_x), np.max(train_x)"
   ]
  },
  {
   "cell_type": "code",
   "execution_count": null,
   "metadata": {},
   "outputs": [],
   "source": []
  },
  {
   "cell_type": "code",
   "execution_count": 29,
   "metadata": {},
   "outputs": [],
   "source": [
    "# training\n",
    "\n",
    "num_epochs = 1\n",
    "batch_size = 32"
   ]
  },
  {
   "cell_type": "code",
   "execution_count": 32,
   "metadata": {},
   "outputs": [
    {
     "name": "stdout",
     "output_type": "stream",
     "text": [
      "Train on 60000 samples\n",
      "60000/60000 [==============================] - 191s 3ms/sample - loss: 0.0562 - sparse_categorical_accuracy: 0.9825\n"
     ]
    }
   ],
   "source": [
    "hist = model.fit(train_x, train_y,\n",
    "         batch_size=batch_size,\n",
    "         shuffle=True,\n",
    "         epochs=num_epochs)"
   ]
  },
  {
   "cell_type": "code",
   "execution_count": 34,
   "metadata": {},
   "outputs": [
    {
     "data": {
      "text/plain": [
       "{'loss': [0.05617143636976058], 'sparse_categorical_accuracy': [0.98253334]}"
      ]
     },
     "execution_count": 34,
     "metadata": {},
     "output_type": "execute_result"
    }
   ],
   "source": [
    "hist.history"
   ]
  },
  {
   "cell_type": "code",
   "execution_count": 33,
   "metadata": {},
   "outputs": [
    {
     "name": "stdout",
     "output_type": "stream",
     "text": [
      "10000/10000 [==============================] - 7s 670us/sample - loss: 0.0299 - sparse_categorical_accuracy: 0.9900\n"
     ]
    },
    {
     "data": {
      "text/plain": [
       "[0.02989500067735353, 0.99]"
      ]
     },
     "execution_count": 33,
     "metadata": {},
     "output_type": "execute_result"
    }
   ],
   "source": [
    "model.evaluate(test_x, test_y, batch_size=batch_size)"
   ]
  },
  {
   "cell_type": "code",
   "execution_count": 35,
   "metadata": {},
   "outputs": [],
   "source": [
    "import matplotlib.pyplot as plt\n",
    "\n",
    "import numpy as np\n",
    "\n",
    "%matplotlib inline\n"
   ]
  },
  {
   "cell_type": "code",
   "execution_count": 37,
   "metadata": {},
   "outputs": [
    {
     "data": {
      "text/plain": [
       "(28, 28)"
      ]
     },
     "execution_count": 37,
     "metadata": {},
     "output_type": "execute_result"
    }
   ],
   "source": [
    "test_image = test_x[0, :, :, 0]\n",
    "test_image.shape"
   ]
  },
  {
   "cell_type": "code",
   "execution_count": 38,
   "metadata": {},
   "outputs": [
    {
     "data": {
      "image/png": "[encoded data removed]",
      "text/plain": [
       "<Figure size 432x288 with 1 Axes>"
      ]
     },
     "metadata": {
      "needs_background": "light"
     },
     "output_type": "display_data"
    }
   ],
   "source": [
    "plt.title(test_y[0])\n",
    "plt.imshow(test_image,'gray')\n",
    "plt.show()"
   ]
  },
  {
   "cell_type": "code",
   "execution_count": 39,
   "metadata": {},
   "outputs": [],
   "source": [
    "pred = model.predict(test_image.reshape(1,28,28,1))"
   ]
  },
  {
   "cell_type": "code",
   "execution_count": 40,
   "metadata": {},
   "outputs": [
    {
     "data": {
      "text/plain": [
       "(1, 10)"
      ]
     },
     "execution_count": 40,
     "metadata": {},
     "output_type": "execute_result"
    }
   ],
   "source": [
    "pred.shape"
   ]
  },
  {
   "cell_type": "code",
   "execution_count": 41,
   "metadata": {},
   "outputs": [
    {
     "data": {
      "text/plain": [
       "array([[5.5704490e-11, 1.1218334e-09, 3.1202468e-08, 1.7634523e-08,\n",
       "        1.4160159e-10, 1.8674296e-11, 6.9446605e-14, 9.9999964e-01,\n",
       "        1.4502097e-10, 3.8972024e-07]], dtype=float32)"
      ]
     },
     "execution_count": 41,
     "metadata": {},
     "output_type": "execute_result"
    }
   ],
   "source": [
    "pred"
   ]
  },
  {
   "cell_type": "code",
   "execution_count": 42,
   "metadata": {},
   "outputs": [
    {
     "data": {
      "text/plain": [
       "7"
      ]
     },
     "execution_count": 42,
     "metadata": {},
     "output_type": "execute_result"
    }
   ],
   "source": [
    "np.argmax(pred)"
   ]
  },
  {
   "cell_type": "code",
   "execution_count": 43,
   "metadata": {},
   "outputs": [
    {
     "data": {
      "text/plain": [
       "(32, 28, 28, 1)"
      ]
     },
     "execution_count": 43,
     "metadata": {},
     "output_type": "execute_result"
    }
   ],
   "source": [
    "test_batch = test_x[:32]\n",
    "test_batch.shape"
   ]
  },
  {
   "cell_type": "code",
   "execution_count": 44,
   "metadata": {},
   "outputs": [
    {
     "data": {
      "text/plain": [
       "array([[5.57047013e-11, 1.12183762e-09, 3.12025890e-08, 1.76345569e-08,\n",
       "        1.41602133e-10, 1.86743676e-11, 6.94466050e-14, 9.99999642e-01,\n",
       "        1.45021245e-10, 3.89720981e-07],\n",
       "       [8.72839721e-08, 2.38854696e-08, 9.99999881e-01, 1.52476420e-09,\n",
       "        3.50732707e-11, 1.53263808e-11, 1.42642973e-08, 1.31675260e-09,\n",
       "        3.43831186e-09, 1.03732814e-10],\n",
       "       [2.73231393e-07, 9.99995947e-01, 5.19232003e-07, 2.94884672e-09,\n",
       "        4.08310029e-07, 2.38748669e-07, 1.14042234e-06, 1.04045205e-06,\n",
       "        3.18975339e-07, 1.30725695e-07],\n",
       "       [9.99969125e-01, 2.33664057e-08, 3.99620205e-07, 1.98587831e-08,\n",
       "        9.02922892e-09, 1.18538674e-06, 2.29885190e-05, 5.68606993e-08,\n",
       "        4.30764743e-07, 5.86384158e-06],\n",
       "       [1.82223747e-09, 4.08939940e-08, 1.41374379e-08, 9.03569386e-10,\n",
       "        9.98818815e-01, 1.57733112e-07, 9.93254101e-09, 3.94237993e-08,\n",
       "        4.18706350e-08, 1.18104671e-03],\n",
       "       [1.79207007e-07, 9.99998093e-01, 1.55765619e-07, 4.32212710e-10,\n",
       "        1.74313186e-07, 4.14600656e-08, 1.45895456e-07, 9.93300773e-07,\n",
       "        1.08911514e-07, 1.83559322e-07],\n",
       "       [2.24813448e-08, 4.27312625e-05, 3.15547254e-07, 7.55041754e-08,\n",
       "        9.98110175e-01, 2.70071559e-05, 6.18940248e-07, 1.23190546e-06,\n",
       "        5.36742795e-04, 1.28105062e-03],\n",
       "       [1.04563157e-10, 4.31955760e-09, 1.79728299e-09, 6.56153958e-08,\n",
       "        3.37972269e-05, 9.47337497e-08, 9.59999510e-11, 3.40155033e-08,\n",
       "        3.95567326e-07, 9.99965549e-01],\n",
       "       [1.28283082e-05, 2.06732356e-08, 9.75293002e-09, 2.76736110e-08,\n",
       "        9.94394327e-07, 9.98019934e-01, 1.85502926e-03, 1.40028140e-08,\n",
       "        7.25512145e-05, 3.84967279e-05],\n",
       "       [2.23276866e-12, 1.12739167e-11, 2.52040619e-12, 9.85278192e-10,\n",
       "        4.20051583e-06, 2.97980041e-09, 1.59994752e-13, 1.57785678e-07,\n",
       "        3.12851569e-07, 9.99995351e-01],\n",
       "       [9.99998450e-01, 2.44127518e-09, 1.32941841e-06, 7.04180991e-10,\n",
       "        4.35671534e-11, 7.56137997e-09, 6.33866293e-09, 3.32415451e-09,\n",
       "        2.67222044e-09, 2.86735542e-07],\n",
       "       [2.24340489e-04, 5.29022048e-10, 3.40047421e-08, 3.99633077e-10,\n",
       "        7.70348585e-09, 5.53675709e-05, 9.99719679e-01, 6.14745865e-10,\n",
       "        5.86781880e-07, 2.00639647e-08],\n",
       "       [1.86957307e-12, 4.63137905e-12, 1.80007742e-13, 2.73797623e-10,\n",
       "        1.04333631e-05, 9.71635883e-10, 1.51862125e-13, 6.06929476e-08,\n",
       "        2.96234752e-08, 9.99989510e-01],\n",
       "       [9.99997377e-01, 3.78847309e-09, 1.05041140e-08, 4.30966901e-10,\n",
       "        3.58391150e-10, 5.16820613e-08, 4.87197269e-08, 3.42550805e-08,\n",
       "        2.99255483e-08, 2.59407989e-06],\n",
       "       [1.49004480e-08, 9.99998927e-01, 1.58423745e-07, 6.41738822e-08,\n",
       "        2.31314687e-07, 1.26535241e-07, 1.09576078e-07, 5.99631989e-08,\n",
       "        1.17866463e-07, 7.33863743e-08],\n",
       "       [5.17261114e-08, 2.67421888e-06, 3.26030977e-06, 3.67520750e-02,\n",
       "        3.15544568e-09, 9.63220358e-01, 9.43440170e-07, 1.40054644e-05,\n",
       "        4.18992340e-06, 2.56226258e-06],\n",
       "       [1.56212238e-10, 6.70237216e-12, 3.71143463e-11, 7.32518379e-10,\n",
       "        1.42385159e-06, 1.89831284e-09, 1.95644065e-12, 4.70436873e-07,\n",
       "        8.58318217e-08, 9.99997973e-01],\n",
       "       [6.37144004e-10, 1.05542342e-09, 8.04273483e-08, 1.00733324e-07,\n",
       "        2.07500017e-10, 4.90074474e-11, 3.23549239e-13, 9.99999166e-01,\n",
       "        1.44551163e-10, 6.21617971e-07],\n",
       "       [1.21054945e-05, 1.63698951e-05, 1.48969796e-03, 9.85757828e-01,\n",
       "        1.80174231e-06, 1.11450674e-02, 7.37912296e-06, 3.82798316e-04,\n",
       "        7.80468865e-04, 4.06519423e-04],\n",
       "       [4.66532195e-11, 1.63960987e-08, 2.89373014e-09, 1.94029487e-10,\n",
       "        9.99993682e-01, 1.87834530e-08, 3.67833319e-10, 2.04976558e-07,\n",
       "        3.51405172e-09, 6.05517380e-06],\n",
       "       [2.29289310e-10, 1.24086812e-08, 1.16662971e-10, 2.07808796e-07,\n",
       "        1.49627540e-05, 1.18296398e-07, 7.93285316e-12, 6.64239906e-06,\n",
       "        2.26481802e-07, 9.99977827e-01],\n",
       "       [2.29069497e-06, 2.32608002e-10, 2.05485917e-09, 5.55550536e-11,\n",
       "        3.41091877e-10, 2.00483087e-03, 9.97992516e-01, 6.57669318e-12,\n",
       "        3.91152383e-07, 4.07749701e-09],\n",
       "       [2.45023853e-06, 2.06631756e-09, 1.08154605e-08, 2.46249021e-10,\n",
       "        1.22048903e-06, 1.34230058e-05, 9.99982595e-01, 2.20450591e-09,\n",
       "        1.30819728e-07, 8.53147313e-08],\n",
       "       [1.27360025e-10, 2.30620319e-12, 3.67192713e-13, 4.25803393e-08,\n",
       "        4.16745076e-11, 9.99999166e-01, 2.18825154e-08, 1.61056671e-12,\n",
       "        3.06427744e-10, 8.04437946e-07],\n",
       "       [3.47724729e-08, 3.54164769e-07, 1.63425113e-06, 4.93532610e-08,\n",
       "        9.89419699e-01, 1.71149986e-06, 4.45241341e-07, 6.16238758e-05,\n",
       "        2.32089246e-06, 1.05120223e-02],\n",
       "       [9.99888778e-01, 9.68539950e-08, 6.37997891e-06, 1.19974104e-07,\n",
       "        1.16334128e-07, 6.49346566e-06, 8.85330301e-05, 2.66395602e-07,\n",
       "        4.12444433e-06, 5.03744832e-06],\n",
       "       [4.43699166e-09, 4.10476169e-08, 7.13371492e-07, 5.73084890e-07,\n",
       "        2.02161683e-08, 4.55209026e-09, 7.44897026e-12, 9.99948978e-01,\n",
       "        8.56842375e-10, 4.97430665e-05],\n",
       "       [2.42654583e-13, 1.46717458e-10, 4.56033258e-12, 5.66858518e-13,\n",
       "        9.99995112e-01, 4.70063044e-10, 1.78083123e-12, 4.56795192e-11,\n",
       "        9.75581491e-11, 4.86910085e-06],\n",
       "       [9.99988556e-01, 2.21490012e-07, 8.28124666e-06, 3.08617913e-08,\n",
       "        9.65590630e-09, 6.49857981e-08, 7.43775175e-08, 7.55905603e-07,\n",
       "        2.73737982e-07, 1.83886903e-06],\n",
       "       [1.32401805e-08, 9.99985933e-01, 8.32986984e-07, 5.19950220e-07,\n",
       "        1.02246404e-05, 1.47067666e-07, 1.06916382e-07, 1.13054921e-06,\n",
       "        3.67069219e-07, 8.48841182e-07],\n",
       "       [1.27974955e-14, 1.67252867e-09, 2.62452549e-09, 9.99999881e-01,\n",
       "        1.29078172e-13, 1.24981483e-08, 2.86805925e-13, 7.88077372e-08,\n",
       "        4.26178648e-10, 1.32933273e-08],\n",
       "       [1.61111524e-09, 9.99994874e-01, 1.84165614e-07, 1.91005634e-09,\n",
       "        3.57802242e-06, 1.17805694e-08, 4.86377827e-09, 3.80468066e-07,\n",
       "        2.54870489e-08, 9.65346203e-07]], dtype=float32)"
      ]
     },
     "execution_count": 44,
     "metadata": {},
     "output_type": "execute_result"
    }
   ],
   "source": [
    "preds = model.predict(test_batch)\n",
    "preds"
   ]
  },
  {
   "cell_type": "code",
   "execution_count": 51,
   "metadata": {},
   "outputs": [
    {
     "data": {
      "text/plain": [
       "array([7, 2, 1, 0, 4, 1, 4, 9, 5, 9, 0, 6, 9, 0, 1, 5, 9, 7, 3, 4, 9, 6,\n",
       "       6, 5, 4, 0, 7, 4, 0, 1, 3, 1], dtype=int64)"
      ]
     },
     "execution_count": 51,
     "metadata": {},
     "output_type": "execute_result"
    }
   ],
   "source": [
    "np.argmax(preds,-1)"
   ]
  },
  {
   "cell_type": "code",
   "execution_count": 50,
   "metadata": {},
   "outputs": [
    {
     "data": {
      "image/png": "[encoded data removed]",
      "text/plain": [
       "<Figure size 432x288 with 1 Axes>"
      ]
     },
     "metadata": {
      "needs_background": "light"
     },
     "output_type": "display_data"
    }
   ],
   "source": [
    "plt.imshow(test_batch[2,:,:,0])\n",
    "plt.show()"
   ]
  },
  {
   "cell_type": "code",
   "execution_count": null,
   "metadata": {},
   "outputs": [],
   "source": []
  }
 ],
 "metadata": {
  "kernelspec": {
   "display_name": "Python 3",
   "language": "python",
   "name": "python3"
  },
  "language_info": {
   "codemirror_mode": {
    "name": "ipython",
    "version": 3
   },
   "file_extension": ".py",
   "mimetype": "text/x-python",
   "name": "python",
   "nbconvert_exporter": "python",
   "pygments_lexer": "ipython3",
   "version": "3.7.9"
  }
 },
 "nbformat": 4,
 "nbformat_minor": 4
}
