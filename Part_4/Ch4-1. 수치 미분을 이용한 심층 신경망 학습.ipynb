{
 "cells": [
  {
   "cell_type": "markdown",
   "metadata": {},
   "source": [
    "## 수치 미분을 이용한 심층 신경망 학습"
   ]
  },
  {
   "cell_type": "code",
   "execution_count": 16,
   "metadata": {},
   "outputs": [],
   "source": [
    "import time\n",
    "import numpy as np"
   ]
  },
  {
   "cell_type": "markdown",
   "metadata": {},
   "source": [
    "## 유틸리티 함수"
   ]
  },
  {
   "cell_type": "code",
   "execution_count": 17,
   "metadata": {},
   "outputs": [],
   "source": [
    "epsilon = 0.0001\n",
    "\n",
    "def _t(x):\n",
    "    return np.transpose(x)\n",
    "\n",
    "def _m(A, B):\n",
    "    return np.matmul(A, B)\n",
    "\n",
    "def sigmoid(x):\n",
    "    return 1 / (1 + np.exp(-x))\n",
    "\n",
    "def mean_squared_error(h, y):\n",
    "    return 1 / 2 * np.mean(np.square(h - y))"
   ]
  },
  {
   "cell_type": "markdown",
   "metadata": {},
   "source": [
    "## 뉴런 구현"
   ]
  },
  {
   "cell_type": "code",
   "execution_count": 18,
   "metadata": {},
   "outputs": [],
   "source": [
    "class Neuron:\n",
    "    def __init__(self, W, b, a):\n",
    "        # Model Parameter\n",
    "        self.W = W\n",
    "        self.b = b\n",
    "        self.a = a\n",
    "        \n",
    "        # Gradients\n",
    "        self.dW = np.zeros_like(self.W)\n",
    "        self.db = np.zeros_like(self.b)\n",
    "\n",
    "    def __call__(self, x):\n",
    "        return self.a(_m(_t(self.W), x) + self.b) # activation((W^T)x + b)"
   ]
  },
  {
   "cell_type": "markdown",
   "metadata": {},
   "source": [
    "## 심층신경망 구현"
   ]
  },
  {
   "cell_type": "code",
   "execution_count": 25,
   "metadata": {},
   "outputs": [],
   "source": [
    "class DNN:\n",
    "    def __init__(self, hidden_depth, num_neuron, num_input, num_output, activation=sigmoid):\n",
    "        def init_var(i, o):\n",
    "            return np.random.normal(0.0, 0.01, (i, o)), np.zeros((o,))\n",
    "\n",
    "        self.sequence = list()\n",
    "        # First hidden layer\n",
    "        W, b = init_var(num_input, num_neuron)\n",
    "        self.sequence.append(Neuron(W, b, activation))\n",
    "        \n",
    "        # Hidden layers\n",
    "        for _ in range(hidden_depth - 1):\n",
    "            W, b = init_var(num_neuron, num_neuron)\n",
    "            self.sequence.append(Neuron(W, b, activation))\n",
    "\n",
    "        # Output layer\n",
    "        W, b = init_var(num_neuron, num_output)\n",
    "        self.sequence.append(Neuron(W, b, activation))\n",
    "\n",
    "    def __call__(self, x):\n",
    "        for layer in self.sequence:\n",
    "            x = layer(x)\n",
    "        return x\n",
    "\n",
    "    def calc_gradient(self, x, y, loss_func):\n",
    "        def get_new_sequence(layer_index, new_neuron):\n",
    "            new_sequence = list()\n",
    "            for i, layer in enumerate(self.sequence):\n",
    "                if i == layer_index:\n",
    "                    new_sequence.append(new_neuron)\n",
    "                else:\n",
    "                    new_sequence.append(layer)\n",
    "            return new_sequence\n",
    "        \n",
    "        def eval_sequence(x, sequence):\n",
    "            for layer in sequence:\n",
    "                x = layer(x)\n",
    "            return x\n",
    "        \n",
    "        loss = loss_func(self(x), y)\n",
    "        \n",
    "        for layer_id, layer in enumerate(self.sequence): # iterate layer\n",
    "            for w_i, w in enumerate(layer.W): # iterate W (row)\n",
    "                for w_j, ww in enumerate(w): # iterate W (col)\n",
    "                    W = np.copy(layer.W)\n",
    "                    W[w_i][w_j] = ww + epsilon \n",
    "                    \n",
    "                    new_neuron = Neuron(W, layer.b, layer.a)\n",
    "                    new_seq = get_new_sequence(layer_id, new_neuron)\n",
    "                    h = eval_sequence(x, new_seq)\n",
    "                    \n",
    "                    grad = (loss_func(h, y) - loss) / epsilon # (f(x +eps) -f(x)) / epsilon                    \n",
    "                    layer.dW[w_i][w_j] = grad\n",
    "                \n",
    "                for b_i, bb in enumerate(layer.b): #iterate b\n",
    "                    b = np.copy(layer.b)\n",
    "                    b[b_i] = bb + epsilon \n",
    "                    \n",
    "                    new_neuron = Neuron(layer.W, b, layer.a)\n",
    "                    new_seq = get_new_sequence(layer_id, new_neuron)\n",
    "                    h = eval_sequence(x, new_seq)\n",
    "                    \n",
    "                    grad = (loss_func(h, y) - loss) / epsilon # (f(x +eps) -f(x)) / epsilon                    \n",
    "                    layer.db[b_i] = grad\n",
    "        return loss"
   ]
  },
  {
   "cell_type": "markdown",
   "metadata": {},
   "source": [
    "## 경사하강 학습법"
   ]
  },
  {
   "cell_type": "code",
   "execution_count": 26,
   "metadata": {},
   "outputs": [],
   "source": [
    "def gradient_descent(network, x, y, loss_obj, alpha=0.01):\n",
    "    loss = network.calc_gradient(x, y, loss_obj)\n",
    "    for layer in network.sequence:\n",
    "        layer.W += -alpha * layer.dW\n",
    "        layer.b += -alpha * layer.db\n",
    "    return loss"
   ]
  },
  {
   "cell_type": "markdown",
   "metadata": {},
   "source": [
    "## 동작 테스트"
   ]
  },
  {
   "cell_type": "code",
   "execution_count": 27,
   "metadata": {},
   "outputs": [
    {
     "name": "stdout",
     "output_type": "stream",
     "text": [
      "Epoch 0: Test loss 0.12582883508358192\n",
      "Epoch 1: Test loss 0.12512219245726067\n",
      "Epoch 2: Test loss 0.12441970702033667\n",
      "Epoch 3: Test loss 0.12372138250602982\n",
      "Epoch 4: Test loss 0.12302722184822201\n",
      "Epoch 5: Test loss 0.12233722719396994\n",
      "Epoch 6: Test loss 0.12165139991625486\n",
      "Epoch 7: Test loss 0.12096974062691093\n",
      "Epoch 8: Test loss 0.12029224918975881\n",
      "Epoch 9: Test loss 0.11961892473385972\n",
      "Epoch 10: Test loss 0.11894976566694397\n",
      "Epoch 11: Test loss 0.11828476968895318\n",
      "Epoch 12: Test loss 0.1176239338057081\n",
      "Epoch 13: Test loss 0.1169672543426679\n",
      "Epoch 14: Test loss 0.11631472695876258\n",
      "Epoch 15: Test loss 0.11566634666032036\n",
      "Epoch 16: Test loss 0.1150221078150281\n",
      "Epoch 17: Test loss 0.11438200416594003\n",
      "Epoch 18: Test loss 0.11374602884552344\n",
      "Epoch 19: Test loss 0.11311417438971097\n",
      "Epoch 20: Test loss 0.11248643275194503\n",
      "Epoch 21: Test loss 0.11186279531725293\n",
      "Epoch 22: Test loss 0.11124325291626061\n",
      "Epoch 23: Test loss 0.11062779583919384\n",
      "Epoch 24: Test loss 0.11001641384983613\n",
      "Epoch 25: Test loss 0.10940909619942485\n",
      "Epoch 26: Test loss 0.1088058316405148\n",
      "Epoch 27: Test loss 0.10820660844072408\n",
      "Epoch 28: Test loss 0.10761141439643053\n",
      "Epoch 29: Test loss 0.10702023684637826\n",
      "Epoch 30: Test loss 0.10643306268517672\n",
      "Epoch 31: Test loss 0.10584987837668215\n",
      "Epoch 32: Test loss 0.10527066996730781\n",
      "Epoch 33: Test loss 0.10469542309915442\n",
      "Epoch 34: Test loss 0.10412412302306566\n",
      "Epoch 35: Test loss 0.10355675461151966\n",
      "Epoch 36: Test loss 0.10299330237139329\n",
      "Epoch 37: Test loss 0.1024337504565766\n",
      "Epoch 38: Test loss 0.10187808268044879\n",
      "Epoch 39: Test loss 0.10132628252816217\n",
      "Epoch 40: Test loss 0.10077833316881726\n",
      "Epoch 41: Test loss 0.10023421746743871\n",
      "Epoch 42: Test loss 0.0996939179968013\n",
      "Epoch 43: Test loss 0.09915741704906385\n",
      "Epoch 44: Test loss 0.0986246966472477\n",
      "Epoch 45: Test loss 0.09809573855653103\n",
      "Epoch 46: Test loss 0.09757052429536603\n",
      "Epoch 47: Test loss 0.09704903514640748\n",
      "Epoch 48: Test loss 0.0965312521672567\n",
      "Epoch 49: Test loss 0.09601715620101701\n",
      "Epoch 50: Test loss 0.09550672788667715\n",
      "Epoch 51: Test loss 0.09499994766927933\n",
      "Epoch 52: Test loss 0.09449679580992867\n",
      "Epoch 53: Test loss 0.09399725239557141\n",
      "Epoch 54: Test loss 0.09350129734862028\n",
      "Epoch 55: Test loss 0.09300891043635891\n",
      "Epoch 56: Test loss 0.09252007128017507\n",
      "Epoch 57: Test loss 0.09203475936458358\n",
      "Epoch 58: Test loss 0.09155295404606394\n",
      "Epoch 59: Test loss 0.09107463456170872\n",
      "Epoch 60: Test loss 0.09059978003768433\n",
      "Epoch 61: Test loss 0.09012836949748357\n",
      "Epoch 62: Test loss 0.08966038187000067\n",
      "Epoch 63: Test loss 0.08919579599742457\n",
      "Epoch 64: Test loss 0.08873459064293529\n",
      "Epoch 65: Test loss 0.0882767444982011\n",
      "Epoch 66: Test loss 0.08782223619072062\n",
      "Epoch 67: Test loss 0.08737104429095471\n",
      "Epoch 68: Test loss 0.08692314731929336\n",
      "Epoch 69: Test loss 0.08647852375283224\n",
      "Epoch 70: Test loss 0.08603715203196557\n",
      "Epoch 71: Test loss 0.08559901056682492\n",
      "Epoch 72: Test loss 0.08516407774352401\n",
      "Epoch 73: Test loss 0.08473233193023434\n",
      "Epoch 74: Test loss 0.0843037514830941\n",
      "Epoch 75: Test loss 0.08387831475195207\n",
      "Epoch 76: Test loss 0.08345600008593118\n",
      "Epoch 77: Test loss 0.0830367858388488\n",
      "Epoch 78: Test loss 0.08262065037445868\n",
      "Epoch 79: Test loss 0.0822075720715435\n",
      "Epoch 80: Test loss 0.0817975293288456\n",
      "Epoch 81: Test loss 0.08139050056985693\n",
      "Epoch 82: Test loss 0.08098646424743411\n",
      "Epoch 83: Test loss 0.08058539884828761\n",
      "Epoch 84: Test loss 0.08018728289731221\n",
      "Epoch 85: Test loss 0.07979209496177139\n",
      "Epoch 86: Test loss 0.07939981365535581\n",
      "Epoch 87: Test loss 0.07901041764208472\n",
      "Epoch 88: Test loss 0.07862388564008864\n",
      "Epoch 89: Test loss 0.07824019642524303\n",
      "Epoch 90: Test loss 0.07785932883467732\n",
      "Epoch 91: Test loss 0.07748126177016972\n",
      "Epoch 92: Test loss 0.07710597420138741\n",
      "Epoch 93: Test loss 0.07673344516903316\n",
      "Epoch 94: Test loss 0.07636365378785057\n",
      "Epoch 95: Test loss 0.07599657924952773\n",
      "Epoch 96: Test loss 0.07563220082546943\n",
      "Epoch 97: Test loss 0.0752704978694731\n",
      "Epoch 98: Test loss 0.07491144982028414\n",
      "Epoch 99: Test loss 0.07455503620404409\n",
      "83.05487418174744 seconds elapsed.\n"
     ]
    }
   ],
   "source": [
    "x = np.random.normal(0.0, 1.0, (10,))\n",
    "y = np.random.normal(0.0, 1.0, (2,))\n",
    "\n",
    "dnn = DNN(hidden_depth=5, num_neuron=32, num_input=10, num_output=2, activation=sigmoid)\n",
    "\n",
    "t = time.time()\n",
    "for epoch in range(100):\n",
    "    loss = gradient_descent(dnn, x, y, mean_squared_error, 0.01)\n",
    "    print('Epoch {}: Test loss {}'.format(epoch, loss))\n",
    "print('{} seconds elapsed.'.format(time.time() - t))"
   ]
  }
 ],
 "metadata": {
  "kernelspec": {
   "display_name": "Python 3",
   "language": "python",
   "name": "python3"
  },
  "language_info": {
   "codemirror_mode": {
    "name": "ipython",
    "version": 3
   },
   "file_extension": ".py",
   "mimetype": "text/x-python",
   "name": "python",
   "nbconvert_exporter": "python",
   "pygments_lexer": "ipython3",
   "version": "3.7.9"
  }
 },
 "nbformat": 4,
 "nbformat_minor": 2
}
