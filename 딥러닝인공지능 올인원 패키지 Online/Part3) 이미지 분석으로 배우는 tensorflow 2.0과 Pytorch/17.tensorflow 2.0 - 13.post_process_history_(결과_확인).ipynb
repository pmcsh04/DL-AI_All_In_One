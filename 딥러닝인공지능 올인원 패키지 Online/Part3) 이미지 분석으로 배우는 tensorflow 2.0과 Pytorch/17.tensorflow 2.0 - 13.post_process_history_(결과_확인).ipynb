{
 "cells": [
  {
   "cell_type": "markdown",
   "metadata": {},
   "source": [
    "# TensorFlow 2.0"
   ]
  },
  {
   "cell_type": "code",
   "execution_count": 1,
   "metadata": {},
   "outputs": [],
   "source": [
    "import os\n",
    "from glob import glob\n",
    "from datetime import datetime\n",
    "\n",
    "import numpy as np\n",
    "\n",
    "import tensorflow as tf\n",
    "from tensorflow.keras import layers\n",
    "\n",
    "from tensorflow.keras import datasets \n",
    "\n",
    "import matplotlib.pyplot as plt\n",
    "\n",
    "%matplotlib inline"
   ]
  },
  {
   "cell_type": "markdown",
   "metadata": {},
   "source": [
    "## Hyperparameter Tunning"
   ]
  },
  {
   "cell_type": "code",
   "execution_count": 2,
   "metadata": {},
   "outputs": [],
   "source": [
    "num_epochs = 50\n",
    "batch_size = 32\n",
    "\n",
    "learning_rate = 0.001\n",
    "\n",
    "dropout_rate = 0.5\n",
    "\n",
    "input_shape = (32, 32, 3)\n",
    "num_classes = 10"
   ]
  },
  {
   "cell_type": "markdown",
   "metadata": {},
   "source": [
    "## Build Model"
   ]
  },
  {
   "cell_type": "code",
   "execution_count": 3,
   "metadata": {},
   "outputs": [],
   "source": [
    "inputs = layers.Input(input_shape)\n",
    "\n",
    "net = layers.Conv2D(32, (3, 3), padding='SAME')(inputs)\n",
    "net = layers.Activation('relu')(net)\n",
    "net = layers.Conv2D(32, (3, 3), padding='SAME')(net)\n",
    "net = layers.Activation('relu')(net)\n",
    "net = layers.MaxPooling2D(pool_size=(2, 2))(net)\n",
    "net = layers.Dropout(dropout_rate)(net)\n",
    "\n",
    "net = layers.Conv2D(64, (3, 3), padding='SAME')(net)\n",
    "net = layers.Activation('relu')(net)\n",
    "net = layers.Conv2D(64, (3, 3), padding='SAME')(net)\n",
    "net = layers.Activation('relu')(net)\n",
    "net = layers.MaxPooling2D(pool_size=(2, 2))(net)\n",
    "net = layers.Dropout(dropout_rate)(net)\n",
    "\n",
    "net = layers.Flatten()(net)\n",
    "net = layers.Dense(512)(net)\n",
    "net = layers.Activation('relu')(net)\n",
    "net = layers.Dropout(dropout_rate)(net)\n",
    "net = layers.Dense(num_classes)(net)\n",
    "net = layers.Activation('softmax')(net)\n",
    "\n",
    "model = tf.keras.Model(inputs=inputs, outputs=net, name='Basic_CNN')"
   ]
  },
  {
   "cell_type": "code",
   "execution_count": 4,
   "metadata": {},
   "outputs": [],
   "source": [
    "# Model is the full model w/o custom layers\n",
    "model.compile(optimizer=tf.keras.optimizers.Adam(learning_rate),  # Optimization\n",
    "              loss='sparse_categorical_crossentropy',  # Loss Function \n",
    "              metrics=['accuracy'])  # Metrics / Accuracy"
   ]
  },
  {
   "cell_type": "markdown",
   "metadata": {},
   "source": [
    "# Data Preprocess"
   ]
  },
  {
   "cell_type": "code",
   "execution_count": 5,
   "metadata": {},
   "outputs": [],
   "source": [
    "train_paths = glob('../dataset/cifar/train/*.png')[:1000]\n",
    "test_paths = glob('../dataset/cifar/test/*.png')[:1000]"
   ]
  },
  {
   "cell_type": "code",
   "execution_count": 6,
   "metadata": {},
   "outputs": [],
   "source": [
    "def get_class_name(path):\n",
    "    return path.split('_')[-1].replace('.png', '')"
   ]
  },
  {
   "cell_type": "code",
   "execution_count": 7,
   "metadata": {},
   "outputs": [],
   "source": [
    "train_labels = [get_class_name(path) for path in train_paths]\n",
    "class_names = np.unique(train_labels)"
   ]
  },
  {
   "cell_type": "code",
   "execution_count": 8,
   "metadata": {},
   "outputs": [],
   "source": [
    "def get_label(path):\n",
    "    fname = tf.strings.split(path, '_')[-1]\n",
    "    lbl_name = tf.strings.regex_replace(fname, '.png', '')\n",
    "    onehot = tf.cast(lbl_name == class_names, tf.uint8)\n",
    "    return tf.argmax(onehot)  # 이번에는 onehot이 아닌 label 번호로"
   ]
  },
  {
   "cell_type": "code",
   "execution_count": 9,
   "metadata": {},
   "outputs": [],
   "source": [
    "def load_image_label(path):\n",
    "    gfile = tf.io.read_file(path)\n",
    "    image = tf.io.decode_image(gfile)\n",
    "    image = tf.cast(image, tf.float32) / 255.  # rescale\n",
    "    \n",
    "    label = get_label(path)\n",
    "    return image, label"
   ]
  },
  {
   "cell_type": "code",
   "execution_count": 10,
   "metadata": {},
   "outputs": [],
   "source": [
    "def image_preprocess(image, label):\n",
    "    image = tf.image.random_flip_up_down(image)\n",
    "    image = tf.image.random_flip_left_right(image)\n",
    "    return image, label"
   ]
  },
  {
   "cell_type": "code",
   "execution_count": 11,
   "metadata": {},
   "outputs": [],
   "source": [
    "AUTOTUNE = tf.data.experimental.AUTOTUNE"
   ]
  },
  {
   "cell_type": "code",
   "execution_count": 12,
   "metadata": {
    "scrolled": false
   },
   "outputs": [],
   "source": [
    "train_dataset = tf.data.Dataset.from_tensor_slices(train_paths)\n",
    "train_dataset = train_dataset.map(load_image_label, num_parallel_calls=AUTOTUNE)\n",
    "train_dataset = train_dataset.map(image_preprocess, num_parallel_calls=AUTOTUNE)\n",
    "train_dataset = train_dataset.batch(batch_size)\n",
    "train_dataset = train_dataset.shuffle(buffer_size=len(train_paths))\n",
    "train_dataset = train_dataset.repeat()"
   ]
  },
  {
   "cell_type": "code",
   "execution_count": 13,
   "metadata": {},
   "outputs": [],
   "source": [
    "test_dataset = tf.data.Dataset.from_tensor_slices(test_paths)\n",
    "test_dataset = test_dataset.map(load_image_label, num_parallel_calls=AUTOTUNE)\n",
    "test_dataset = test_dataset.batch(batch_size)\n",
    "test_dataset = test_dataset.repeat()"
   ]
  },
  {
   "cell_type": "markdown",
   "metadata": {},
   "source": [
    "## Training"
   ]
  },
  {
   "cell_type": "markdown",
   "metadata": {},
   "source": [
    "http://localhost:6006"
   ]
  },
  {
   "cell_type": "code",
   "execution_count": 14,
   "metadata": {
    "scrolled": false
   },
   "outputs": [
    {
     "name": "stderr",
     "output_type": "stream",
     "text": [
      "C:\\Users\\pmcsh\\Anaconda3\\envs\\tensorflow\\lib\\site-packages\\tensorflow\\python\\keras\\engine\\training.py:1844: UserWarning: `Model.fit_generator` is deprecated and will be removed in a future version. Please use `Model.fit`, which supports generators.\n",
      "  warnings.warn('`Model.fit_generator` is deprecated and '\n"
     ]
    },
    {
     "name": "stdout",
     "output_type": "stream",
     "text": [
      "Epoch 1/50\n",
      "31/31 [==============================] - 12s 261ms/step - loss: 2.3171 - accuracy: 0.0775 - val_loss: 2.2783 - val_accuracy: 0.1149\n",
      "Epoch 2/50\n",
      "31/31 [==============================] - 7s 216ms/step - loss: 2.2433 - accuracy: 0.1467 - val_loss: 2.2848 - val_accuracy: 0.1159\n",
      "Epoch 3/50\n",
      "31/31 [==============================] - 7s 222ms/step - loss: 2.2386 - accuracy: 0.1628 - val_loss: 2.1622 - val_accuracy: 0.1744\n",
      "Epoch 4/50\n",
      "31/31 [==============================] - 7s 225ms/step - loss: 2.1431 - accuracy: 0.2023 - val_loss: 2.0738 - val_accuracy: 0.2319\n",
      "Epoch 5/50\n",
      "31/31 [==============================] - 7s 229ms/step - loss: 2.0387 - accuracy: 0.2671 - val_loss: 2.0242 - val_accuracy: 0.2712\n",
      "Epoch 6/50\n",
      "31/31 [==============================] - 7s 221ms/step - loss: 2.0472 - accuracy: 0.2444 - val_loss: 1.9501 - val_accuracy: 0.2843\n",
      "Epoch 7/50\n",
      "31/31 [==============================] - 7s 220ms/step - loss: 1.9418 - accuracy: 0.2777 - val_loss: 1.9395 - val_accuracy: 0.2702\n",
      "Epoch 8/50\n",
      "31/31 [==============================] - 7s 215ms/step - loss: 1.9474 - accuracy: 0.2709 - val_loss: 1.9303 - val_accuracy: 0.2560\n",
      "Epoch 9/50\n",
      "31/31 [==============================] - 7s 221ms/step - loss: 1.9545 - accuracy: 0.2548 - val_loss: 1.8501 - val_accuracy: 0.3004\n",
      "Epoch 10/50\n",
      "31/31 [==============================] - 7s 218ms/step - loss: 1.8674 - accuracy: 0.3095 - val_loss: 1.8299 - val_accuracy: 0.3206\n",
      "Epoch 11/50\n",
      "31/31 [==============================] - 7s 218ms/step - loss: 1.8663 - accuracy: 0.3149 - val_loss: 1.7634 - val_accuracy: 0.3397\n",
      "Epoch 12/50\n",
      "31/31 [==============================] - 7s 218ms/step - loss: 1.8368 - accuracy: 0.3037 - val_loss: 1.8499 - val_accuracy: 0.3024\n",
      "Epoch 13/50\n",
      "31/31 [==============================] - 7s 221ms/step - loss: 1.7345 - accuracy: 0.3539 - val_loss: 1.7841 - val_accuracy: 0.3478\n",
      "Epoch 14/50\n",
      "31/31 [==============================] - 7s 227ms/step - loss: 1.6949 - accuracy: 0.4103 - val_loss: 1.7263 - val_accuracy: 0.3498\n",
      "Epoch 15/50\n",
      "31/31 [==============================] - 7s 219ms/step - loss: 1.7116 - accuracy: 0.3577 - val_loss: 1.7072 - val_accuracy: 0.3740\n",
      "Epoch 16/50\n",
      "31/31 [==============================] - 7s 220ms/step - loss: 1.6724 - accuracy: 0.3719 - val_loss: 1.7206 - val_accuracy: 0.3730\n",
      "Epoch 17/50\n",
      "31/31 [==============================] - 7s 226ms/step - loss: 1.6448 - accuracy: 0.4021 - val_loss: 1.6959 - val_accuracy: 0.3710\n",
      "Epoch 18/50\n",
      "31/31 [==============================] - 7s 220ms/step - loss: 1.5930 - accuracy: 0.4117 - val_loss: 1.7158 - val_accuracy: 0.3780\n",
      "Epoch 19/50\n",
      "31/31 [==============================] - 7s 225ms/step - loss: 1.5738 - accuracy: 0.4089 - val_loss: 1.7136 - val_accuracy: 0.3669\n",
      "Epoch 20/50\n",
      "31/31 [==============================] - 7s 231ms/step - loss: 1.5630 - accuracy: 0.4156 - val_loss: 1.6623 - val_accuracy: 0.3901\n",
      "Epoch 21/50\n",
      "31/31 [==============================] - 7s 218ms/step - loss: 1.4965 - accuracy: 0.4574 - val_loss: 1.6571 - val_accuracy: 0.4012\n",
      "Epoch 22/50\n",
      "31/31 [==============================] - 8s 244ms/step - loss: 1.5613 - accuracy: 0.4274 - val_loss: 1.7113 - val_accuracy: 0.3780\n",
      "Epoch 23/50\n",
      "31/31 [==============================] - 7s 237ms/step - loss: 1.5515 - accuracy: 0.4753 - val_loss: 1.6600 - val_accuracy: 0.4022\n",
      "Epoch 24/50\n",
      "31/31 [==============================] - 7s 235ms/step - loss: 1.4206 - accuracy: 0.4938 - val_loss: 1.6376 - val_accuracy: 0.3962\n",
      "Epoch 25/50\n",
      "31/31 [==============================] - 7s 223ms/step - loss: 1.4438 - accuracy: 0.4700 - val_loss: 1.6764 - val_accuracy: 0.3740\n",
      "Epoch 26/50\n",
      "31/31 [==============================] - 7s 239ms/step - loss: 1.4849 - accuracy: 0.4583 - val_loss: 1.6678 - val_accuracy: 0.3982\n",
      "Epoch 27/50\n",
      "31/31 [==============================] - 7s 227ms/step - loss: 1.4202 - accuracy: 0.4884 - val_loss: 1.6033 - val_accuracy: 0.4083\n",
      "Epoch 28/50\n",
      "31/31 [==============================] - 7s 221ms/step - loss: 1.3684 - accuracy: 0.4978 - val_loss: 1.6890 - val_accuracy: 0.3881\n",
      "Epoch 29/50\n",
      "31/31 [==============================] - 7s 224ms/step - loss: 1.3645 - accuracy: 0.5150 - val_loss: 1.6179 - val_accuracy: 0.4204\n",
      "Epoch 30/50\n",
      "31/31 [==============================] - 7s 222ms/step - loss: 1.2844 - accuracy: 0.5385 - val_loss: 1.5735 - val_accuracy: 0.4214\n",
      "Epoch 31/50\n",
      "31/31 [==============================] - 7s 222ms/step - loss: 1.3245 - accuracy: 0.5083 - val_loss: 1.6069 - val_accuracy: 0.4042\n",
      "Epoch 32/50\n",
      "31/31 [==============================] - 7s 228ms/step - loss: 1.2911 - accuracy: 0.5172 - val_loss: 1.5688 - val_accuracy: 0.4284\n",
      "Epoch 33/50\n",
      "31/31 [==============================] - 7s 227ms/step - loss: 1.2398 - accuracy: 0.5366 - val_loss: 1.6116 - val_accuracy: 0.4335\n",
      "Epoch 34/50\n",
      "31/31 [==============================] - 7s 224ms/step - loss: 1.2755 - accuracy: 0.5489 - val_loss: 1.6301 - val_accuracy: 0.4133\n",
      "Epoch 35/50\n",
      "31/31 [==============================] - 8s 251ms/step - loss: 1.2966 - accuracy: 0.5269 - val_loss: 1.5877 - val_accuracy: 0.4284\n",
      "Epoch 36/50\n",
      "31/31 [==============================] - 7s 237ms/step - loss: 1.1994 - accuracy: 0.5721 - val_loss: 1.7850 - val_accuracy: 0.4214\n",
      "Epoch 37/50\n",
      "31/31 [==============================] - 7s 221ms/step - loss: 1.2894 - accuracy: 0.5355 - val_loss: 1.6245 - val_accuracy: 0.4294\n",
      "Epoch 38/50\n",
      "31/31 [==============================] - 7s 245ms/step - loss: 1.0804 - accuracy: 0.6122 - val_loss: 1.5970 - val_accuracy: 0.4526\n",
      "Epoch 39/50\n",
      "31/31 [==============================] - 7s 227ms/step - loss: 1.1488 - accuracy: 0.5682 - val_loss: 1.6175 - val_accuracy: 0.4627\n",
      "Epoch 40/50\n",
      "31/31 [==============================] - 7s 222ms/step - loss: 1.1481 - accuracy: 0.5834 - val_loss: 1.6482 - val_accuracy: 0.4456\n",
      "Epoch 41/50\n",
      "31/31 [==============================] - 7s 223ms/step - loss: 1.1446 - accuracy: 0.5770 - val_loss: 1.6595 - val_accuracy: 0.4274\n",
      "Epoch 42/50\n",
      "31/31 [==============================] - 7s 222ms/step - loss: 1.1096 - accuracy: 0.6004 - val_loss: 1.7013 - val_accuracy: 0.4375\n",
      "Epoch 43/50\n",
      "31/31 [==============================] - 7s 233ms/step - loss: 1.1577 - accuracy: 0.5722 - val_loss: 1.5730 - val_accuracy: 0.4748\n",
      "Epoch 44/50\n",
      "31/31 [==============================] - 7s 228ms/step - loss: 0.9996 - accuracy: 0.6514 - val_loss: 1.6078 - val_accuracy: 0.4546\n",
      "Epoch 45/50\n",
      "31/31 [==============================] - 7s 233ms/step - loss: 1.0164 - accuracy: 0.6317 - val_loss: 1.6217 - val_accuracy: 0.4597\n",
      "Epoch 46/50\n",
      "31/31 [==============================] - 7s 229ms/step - loss: 1.0099 - accuracy: 0.6537 - val_loss: 1.6204 - val_accuracy: 0.4738\n",
      "Epoch 47/50\n",
      "31/31 [==============================] - 7s 215ms/step - loss: 1.0133 - accuracy: 0.6549 - val_loss: 1.6887 - val_accuracy: 0.4677\n",
      "Epoch 48/50\n",
      "31/31 [==============================] - 7s 228ms/step - loss: 1.0651 - accuracy: 0.6158 - val_loss: 1.6020 - val_accuracy: 0.4597\n",
      "Epoch 49/50\n",
      "31/31 [==============================] - 8s 273ms/step - loss: 1.0538 - accuracy: 0.6308 - val_loss: 1.6771 - val_accuracy: 0.4526\n",
      "Epoch 50/50\n",
      "31/31 [==============================] - 8s 245ms/step - loss: 0.9419 - accuracy: 0.6795 - val_loss: 1.6351 - val_accuracy: 0.4637\n"
     ]
    }
   ],
   "source": [
    "steps_per_epoch = len(train_paths) // batch_size\n",
    "validation_steps = len(test_paths) // batch_size\n",
    "\n",
    "history = model.fit_generator(\n",
    "    train_dataset,\n",
    "    steps_per_epoch=steps_per_epoch,\n",
    "    validation_data=test_dataset,\n",
    "    validation_steps=validation_steps,\n",
    "    epochs=num_epochs\n",
    ")"
   ]
  },
  {
   "cell_type": "markdown",
   "metadata": {},
   "source": [
    "# History 들여다 보기 "
   ]
  },
  {
   "cell_type": "code",
   "execution_count": 15,
   "metadata": {},
   "outputs": [
    {
     "data": {
      "text/plain": [
       "dict_keys(['loss', 'accuracy', 'val_loss', 'val_accuracy'])"
      ]
     },
     "execution_count": 15,
     "metadata": {},
     "output_type": "execute_result"
    }
   ],
   "source": [
    "history.history.keys()"
   ]
  },
  {
   "cell_type": "code",
   "execution_count": 16,
   "metadata": {},
   "outputs": [
    {
     "data": {
      "text/plain": [
       "{'verbose': 1, 'epochs': 50, 'steps': 31}"
      ]
     },
     "execution_count": 16,
     "metadata": {},
     "output_type": "execute_result"
    }
   ],
   "source": [
    "history.params"
   ]
  },
  {
   "cell_type": "code",
   "execution_count": 17,
   "metadata": {},
   "outputs": [],
   "source": [
    "new_model = history.model"
   ]
  },
  {
   "cell_type": "code",
   "execution_count": 18,
   "metadata": {},
   "outputs": [
    {
     "data": {
      "image/png": "[encoded data removed]",
      "text/plain": [
       "<Figure size 432x288 with 1 Axes>"
      ]
     },
     "metadata": {
      "needs_background": "light"
     },
     "output_type": "display_data"
    }
   ],
   "source": [
    "plt.plot(history.history['accuracy'])\n",
    "plt.plot(history.history['val_accuracy'])\n",
    "plt.title(\"Model Accuracy\")\n",
    "plt.ylabel('accuracy')\n",
    "plt.xlabel('epoch')\n",
    "plt.legend(['train', 'validation'])\n",
    "plt.show()"
   ]
  },
  {
   "cell_type": "code",
   "execution_count": 19,
   "metadata": {},
   "outputs": [
    {
     "data": {
      "image/png": "[encoded data removed]",
      "text/plain": [
       "<Figure size 432x288 with 1 Axes>"
      ]
     },
     "metadata": {
      "needs_background": "light"
     },
     "output_type": "display_data"
    }
   ],
   "source": [
    "plt.plot(history.history['loss'])\n",
    "plt.plot(history.history['val_loss'])\n",
    "plt.title('Model Loss')\n",
    "plt.ylabel('loss')\n",
    "plt.xlabel('epoch')\n",
    "plt.legend(['train', 'validation'])\n",
    "plt.show()"
   ]
  },
  {
   "cell_type": "code",
   "execution_count": null,
   "metadata": {},
   "outputs": [],
   "source": []
  }
 ],
 "metadata": {
  "kernelspec": {
   "display_name": "Python 3",
   "language": "python",
   "name": "python3"
  },
  "language_info": {
   "codemirror_mode": {
    "name": "ipython",
    "version": 3
   },
   "file_extension": ".py",
   "mimetype": "text/x-python",
   "name": "python",
   "nbconvert_exporter": "python",
   "pygments_lexer": "ipython3",
   "version": "3.7.9"
  }
 },
 "nbformat": 4,
 "nbformat_minor": 2
}
