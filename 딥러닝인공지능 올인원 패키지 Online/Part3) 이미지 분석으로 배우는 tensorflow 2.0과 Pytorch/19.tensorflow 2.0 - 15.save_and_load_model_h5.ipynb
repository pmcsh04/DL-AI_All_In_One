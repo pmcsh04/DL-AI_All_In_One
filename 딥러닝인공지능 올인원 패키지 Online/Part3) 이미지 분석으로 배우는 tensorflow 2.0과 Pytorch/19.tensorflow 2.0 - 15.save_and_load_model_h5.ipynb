{
 "cells": [
  {
   "cell_type": "markdown",
   "metadata": {},
   "source": [
    "# TensorFlow 2.0"
   ]
  },
  {
   "cell_type": "code",
   "execution_count": 4,
   "metadata": {},
   "outputs": [],
   "source": [
    "import os\n",
    "from glob import glob\n",
    "from datetime import datetime\n",
    "\n",
    "import numpy as np\n",
    "\n",
    "import tensorflow as tf\n",
    "from tensorflow.keras import layers\n",
    "\n",
    "from tensorflow.keras import datasets \n",
    "\n",
    "import matplotlib.pyplot as plt\n",
    "\n",
    "%load_ext tensorboard\n",
    "%matplotlib inline"
   ]
  },
  {
   "cell_type": "markdown",
   "metadata": {},
   "source": [
    "## Hyperparameter Tunning"
   ]
  },
  {
   "cell_type": "code",
   "execution_count": 5,
   "metadata": {},
   "outputs": [],
   "source": [
    "num_epochs = 5\n",
    "batch_size = 32\n",
    "\n",
    "learning_rate = 0.001\n",
    "\n",
    "dropout_rate = 0.5\n",
    "\n",
    "input_shape = (32, 32, 3)\n",
    "num_classes = 10"
   ]
  },
  {
   "cell_type": "markdown",
   "metadata": {},
   "source": [
    "## Build Model"
   ]
  },
  {
   "cell_type": "code",
   "execution_count": 6,
   "metadata": {},
   "outputs": [],
   "source": [
    "inputs = layers.Input(input_shape)\n",
    "\n",
    "net = layers.Conv2D(32, (3, 3), padding='SAME')(inputs)\n",
    "net = layers.Activation('relu')(net)\n",
    "net = layers.Conv2D(32, (3, 3), padding='SAME')(net)\n",
    "net = layers.Activation('relu')(net)\n",
    "net = layers.MaxPooling2D(pool_size=(2, 2))(net)\n",
    "net = layers.Dropout(dropout_rate)(net)\n",
    "\n",
    "net = layers.Conv2D(64, (3, 3), padding='SAME')(net)\n",
    "net = layers.Activation('relu')(net)\n",
    "net = layers.Conv2D(64, (3, 3), padding='SAME')(net)\n",
    "net = layers.Activation('relu')(net)\n",
    "net = layers.MaxPooling2D(pool_size=(2, 2))(net)\n",
    "net = layers.Dropout(dropout_rate)(net)\n",
    "\n",
    "net = layers.Flatten()(net)\n",
    "net = layers.Dense(512)(net)\n",
    "net = layers.Activation('relu')(net)\n",
    "net = layers.Dropout(dropout_rate)(net)\n",
    "net = layers.Dense(num_classes)(net)\n",
    "net = layers.Activation('softmax')(net)\n",
    "\n",
    "model = tf.keras.Model(inputs=inputs, outputs=net, name='Basic_CNN')"
   ]
  },
  {
   "cell_type": "code",
   "execution_count": 7,
   "metadata": {},
   "outputs": [],
   "source": [
    "# Model is the full model w/o custom layers\n",
    "model.compile(optimizer=tf.keras.optimizers.Adam(learning_rate),  # Optimization\n",
    "              loss='sparse_categorical_crossentropy',  # Loss Function \n",
    "              metrics=['accuracy'])  # Metrics / Accuracy"
   ]
  },
  {
   "cell_type": "markdown",
   "metadata": {},
   "source": [
    "# Data Preprocess"
   ]
  },
  {
   "cell_type": "code",
   "execution_count": 8,
   "metadata": {},
   "outputs": [],
   "source": [
    "train_paths = glob('../dataset/cifar/train/*.png')[:100]\n",
    "test_paths = glob('../dataset/cifar/test/*.png')[:100]"
   ]
  },
  {
   "cell_type": "code",
   "execution_count": 9,
   "metadata": {},
   "outputs": [],
   "source": [
    "def get_class_name(path):\n",
    "    return path.split('_')[-1].replace('.png', '')"
   ]
  },
  {
   "cell_type": "code",
   "execution_count": 10,
   "metadata": {},
   "outputs": [],
   "source": [
    "train_labels = [get_class_name(path) for path in train_paths]\n",
    "class_names = np.unique(train_labels)"
   ]
  },
  {
   "cell_type": "code",
   "execution_count": 11,
   "metadata": {},
   "outputs": [],
   "source": [
    "def get_label(path):\n",
    "    fname = tf.strings.split(path, '_')[-1]\n",
    "    lbl_name = tf.strings.regex_replace(fname, '.png', '')\n",
    "    onehot = tf.cast(lbl_name == class_names, tf.uint8)\n",
    "    return tf.argmax(onehot)  # 이번에는 onehot이 아닌 label 번호로"
   ]
  },
  {
   "cell_type": "code",
   "execution_count": 12,
   "metadata": {},
   "outputs": [],
   "source": [
    "def load_image_label(path):\n",
    "    gfile = tf.io.read_file(path)\n",
    "    image = tf.io.decode_image(gfile)\n",
    "    image = tf.cast(image, tf.float32) / 255.  # rescale\n",
    "    \n",
    "    label = get_label(path)\n",
    "    return image, label"
   ]
  },
  {
   "cell_type": "code",
   "execution_count": 13,
   "metadata": {},
   "outputs": [],
   "source": [
    "def image_preprocess(image, label):\n",
    "    image = tf.image.random_flip_up_down(image)\n",
    "    image = tf.image.random_flip_left_right(image)\n",
    "    return image, label"
   ]
  },
  {
   "cell_type": "code",
   "execution_count": 14,
   "metadata": {},
   "outputs": [],
   "source": [
    "AUTOTUNE = tf.data.experimental.AUTOTUNE"
   ]
  },
  {
   "cell_type": "code",
   "execution_count": 15,
   "metadata": {
    "scrolled": false
   },
   "outputs": [],
   "source": [
    "train_dataset = tf.data.Dataset.from_tensor_slices(train_paths)\n",
    "train_dataset = train_dataset.map(load_image_label, num_parallel_calls=AUTOTUNE)\n",
    "train_dataset = train_dataset.map(image_preprocess, num_parallel_calls=AUTOTUNE)\n",
    "train_dataset = train_dataset.batch(batch_size)\n",
    "train_dataset = train_dataset.shuffle(buffer_size=len(train_paths))\n",
    "train_dataset = train_dataset.repeat()"
   ]
  },
  {
   "cell_type": "code",
   "execution_count": 16,
   "metadata": {},
   "outputs": [],
   "source": [
    "test_dataset = tf.data.Dataset.from_tensor_slices(test_paths)\n",
    "test_dataset = test_dataset.map(load_image_label, num_parallel_calls=AUTOTUNE)\n",
    "test_dataset = test_dataset.batch(batch_size)\n",
    "test_dataset = test_dataset.repeat()"
   ]
  },
  {
   "cell_type": "markdown",
   "metadata": {},
   "source": [
    "## Training"
   ]
  },
  {
   "cell_type": "markdown",
   "metadata": {},
   "source": [
    "http://localhost:6006"
   ]
  },
  {
   "cell_type": "code",
   "execution_count": 17,
   "metadata": {},
   "outputs": [
    {
     "name": "stderr",
     "output_type": "stream",
     "text": [
      "C:\\Users\\pmcsh\\Anaconda3\\envs\\tensorflow\\lib\\site-packages\\tensorflow\\python\\keras\\engine\\training.py:1844: UserWarning: `Model.fit_generator` is deprecated and will be removed in a future version. Please use `Model.fit`, which supports generators.\n",
      "  warnings.warn('`Model.fit_generator` is deprecated and '\n"
     ]
    },
    {
     "name": "stdout",
     "output_type": "stream",
     "text": [
      "Epoch 1/5\n",
      "3/3 [==============================] - 2s 496ms/step - loss: 2.3947 - accuracy: 0.1482 - val_loss: 2.2998 - val_accuracy: 0.0729\n",
      "Epoch 2/5\n",
      "3/3 [==============================] - 1s 209ms/step - loss: 2.3118 - accuracy: 0.1602 - val_loss: 2.3274 - val_accuracy: 0.0729\n",
      "Epoch 3/5\n",
      "3/3 [==============================] - 0s 179ms/step - loss: 2.3252 - accuracy: 0.1104 - val_loss: 2.3268 - val_accuracy: 0.0729\n",
      "Epoch 4/5\n",
      "3/3 [==============================] - 0s 156ms/step - loss: 2.3226 - accuracy: 0.0827 - val_loss: 2.3267 - val_accuracy: 0.1042\n",
      "Epoch 5/5\n",
      "3/3 [==============================] - 0s 209ms/step - loss: 2.2270 - accuracy: 0.2737 - val_loss: 2.3646 - val_accuracy: 0.0729\n"
     ]
    }
   ],
   "source": [
    "steps_per_epoch = len(train_paths) // batch_size\n",
    "validation_steps = len(test_paths) // batch_size\n",
    "\n",
    "history = model.fit_generator(\n",
    "    train_dataset,\n",
    "    steps_per_epoch=steps_per_epoch,\n",
    "    validation_data=test_dataset,\n",
    "    validation_steps=validation_steps,\n",
    "    epochs=num_epochs\n",
    ")"
   ]
  },
  {
   "cell_type": "markdown",
   "metadata": {},
   "source": [
    "# Load Checkpoint"
   ]
  },
  {
   "cell_type": "code",
   "execution_count": null,
   "metadata": {},
   "outputs": [],
   "source": [
    "model.load_weights('checkpoints')"
   ]
  },
  {
   "cell_type": "markdown",
   "metadata": {},
   "source": [
    "# Saving Model"
   ]
  },
  {
   "cell_type": "code",
   "execution_count": 18,
   "metadata": {},
   "outputs": [],
   "source": [
    "save_path = 'my_model.h5'"
   ]
  },
  {
   "cell_type": "code",
   "execution_count": 21,
   "metadata": {},
   "outputs": [],
   "source": [
    "model.save(save_path, include_optimizer = True)"
   ]
  },
  {
   "cell_type": "code",
   "execution_count": 22,
   "metadata": {},
   "outputs": [
    {
     "data": {
      "text/plain": [
       "<tensorflow.python.keras.engine.functional.Functional at 0x2875febd548>"
      ]
     },
     "execution_count": 22,
     "metadata": {},
     "output_type": "execute_result"
    }
   ],
   "source": [
    "tf.keras.models.load_model('my_model.h5')"
   ]
  },
  {
   "cell_type": "markdown",
   "metadata": {},
   "source": [
    "# Saving Model - 2"
   ]
  },
  {
   "cell_type": "code",
   "execution_count": 23,
   "metadata": {},
   "outputs": [],
   "source": [
    "model.save_weights('model_weights.h5')"
   ]
  },
  {
   "cell_type": "code",
   "execution_count": 24,
   "metadata": {},
   "outputs": [],
   "source": [
    "with open('model_architecture.json','w') as f:\n",
    "    f.write(model.to_json())"
   ]
  },
  {
   "cell_type": "code",
   "execution_count": 25,
   "metadata": {},
   "outputs": [],
   "source": [
    "from tensorflow.keras.models import model_from_json"
   ]
  },
  {
   "cell_type": "code",
   "execution_count": 26,
   "metadata": {},
   "outputs": [],
   "source": [
    "with open('model_architecture.json', 'r') as f:\n",
    "    model = model_from_json(f.read())"
   ]
  },
  {
   "cell_type": "code",
   "execution_count": 27,
   "metadata": {},
   "outputs": [],
   "source": [
    "model.load_weights('model_weights.h5')"
   ]
  },
  {
   "cell_type": "markdown",
   "metadata": {},
   "source": [
    "# model.h5 들여다보기"
   ]
  },
  {
   "cell_type": "code",
   "execution_count": 28,
   "metadata": {},
   "outputs": [],
   "source": [
    "import h5py"
   ]
  },
  {
   "cell_type": "code",
   "execution_count": 29,
   "metadata": {},
   "outputs": [],
   "source": [
    "model_file = h5py.File('my_model.h5','r+')"
   ]
  },
  {
   "cell_type": "code",
   "execution_count": 30,
   "metadata": {},
   "outputs": [
    {
     "data": {
      "text/plain": [
       "<KeysViewHDF5 ['model_weights', 'optimizer_weights']>"
      ]
     },
     "execution_count": 30,
     "metadata": {},
     "output_type": "execute_result"
    }
   ],
   "source": [
    "model_file.keys()"
   ]
  },
  {
   "cell_type": "code",
   "execution_count": 31,
   "metadata": {},
   "outputs": [
    {
     "data": {
      "text/plain": [
       "<KeysViewHDF5 ['activation', 'activation_1', 'activation_2', 'activation_3', 'activation_4', 'activation_5', 'conv2d', 'conv2d_1', 'conv2d_2', 'conv2d_3', 'dense', 'dense_1', 'dropout', 'dropout_1', 'dropout_2', 'flatten', 'input_1', 'max_pooling2d', 'max_pooling2d_1']>"
      ]
     },
     "execution_count": 31,
     "metadata": {},
     "output_type": "execute_result"
    }
   ],
   "source": [
    "model_file['model_weights'].keys()"
   ]
  },
  {
   "cell_type": "code",
   "execution_count": 32,
   "metadata": {},
   "outputs": [
    {
     "data": {
      "text/plain": [
       "<KeysViewHDF5 ['bias:0', 'kernel:0']>"
      ]
     },
     "execution_count": 32,
     "metadata": {},
     "output_type": "execute_result"
    }
   ],
   "source": [
    "model_file['model_weights']['conv2d']['conv2d'].keys()"
   ]
  },
  {
   "cell_type": "code",
   "execution_count": 34,
   "metadata": {},
   "outputs": [],
   "source": [
    "weight = np.array(model_file['model_weights']['conv2d']['conv2d']['kernel:0'])"
   ]
  },
  {
   "cell_type": "code",
   "execution_count": 35,
   "metadata": {},
   "outputs": [
    {
     "data": {
      "text/plain": [
       "array([[[[-0.03630106,  0.01665179,  0.03196026, -0.00125047,\n",
       "           0.0248889 , -0.09144155,  0.12316304,  0.04768398,\n",
       "          -0.03214347,  0.08755016,  0.10682971, -0.01939817,\n",
       "           0.08086208, -0.10119227,  0.14246207, -0.11312256,\n",
       "          -0.06989056,  0.08647112,  0.09962493,  0.02178361,\n",
       "           0.00562367, -0.07846001,  0.09899911,  0.11335301,\n",
       "           0.0134069 , -0.03890148, -0.05791107, -0.11233088,\n",
       "           0.13214068, -0.07843333, -0.07753862, -0.04133137],\n",
       "         [ 0.11103436,  0.00165727, -0.05803962,  0.11201317,\n",
       "           0.00275071,  0.00160442,  0.10500781, -0.10609115,\n",
       "           0.10911751, -0.06824061,  0.11125349,  0.05909421,\n",
       "           0.04863689, -0.0667519 , -0.13360032, -0.04036625,\n",
       "           0.06249348,  0.01181683, -0.07424951, -0.04570771,\n",
       "          -0.03580257, -0.04388504, -0.06141111, -0.10712428,\n",
       "           0.06742401,  0.05428011,  0.09716335,  0.03986028,\n",
       "          -0.10059503, -0.08051846, -0.03610084,  0.05863261],\n",
       "         [ 0.11275161,  0.11971661,  0.03187195, -0.08623216,\n",
       "           0.04284215, -0.06853416,  0.00232955, -0.06756848,\n",
       "           0.10220914, -0.02494453,  0.06669842, -0.14157416,\n",
       "          -0.11651823,  0.11670835,  0.06200277, -0.12230742,\n",
       "           0.09952866, -0.12755789,  0.03647237,  0.05443475,\n",
       "          -0.06551662, -0.02986066, -0.06564344,  0.04837453,\n",
       "           0.02425021, -0.08864875, -0.09567371,  0.07134888,\n",
       "          -0.12894292,  0.1286892 ,  0.02378042,  0.10977753]],\n",
       "\n",
       "        [[ 0.00556938,  0.10581555, -0.13509886,  0.01093736,\n",
       "           0.05569859, -0.06553511,  0.12570825, -0.10146111,\n",
       "           0.01570029, -0.06860811, -0.08234433, -0.07123545,\n",
       "          -0.13597219,  0.1175567 , -0.06786108, -0.00063057,\n",
       "           0.11343023,  0.11124595, -0.03418396,  0.07508909,\n",
       "          -0.00274023, -0.06929865, -0.11500351,  0.02053108,\n",
       "          -0.13122125, -0.09138644,  0.0883709 ,  0.09708149,\n",
       "          -0.1031172 , -0.04249674, -0.06092619, -0.07809395],\n",
       "         [ 0.11568636, -0.01992083, -0.05713278, -0.10619314,\n",
       "           0.0762551 ,  0.11480448, -0.04968777, -0.1191259 ,\n",
       "           0.05191572, -0.06032991, -0.07329536, -0.02924114,\n",
       "           0.03554851, -0.11740467,  0.04121867, -0.09712459,\n",
       "           0.07448433, -0.01162601, -0.07970391, -0.10103392,\n",
       "          -0.10651892,  0.04231189,  0.1299754 ,  0.07310453,\n",
       "           0.09168682, -0.05696558, -0.02876782, -0.03482205,\n",
       "          -0.00881973, -0.05568017,  0.1154658 ,  0.13065308],\n",
       "         [ 0.01682414,  0.09874587, -0.05733458,  0.13433161,\n",
       "          -0.06554913, -0.08013239, -0.1073655 ,  0.10026851,\n",
       "          -0.08700128, -0.06103319,  0.0350313 ,  0.11850356,\n",
       "          -0.01297884, -0.13198349, -0.11375324, -0.00860264,\n",
       "          -0.07909579,  0.10005478,  0.00443555,  0.04142713,\n",
       "           0.00391855,  0.09439895, -0.1227652 ,  0.06411578,\n",
       "          -0.08853903,  0.0191718 ,  0.02525371, -0.10935657,\n",
       "          -0.04819088,  0.05165827, -0.0168525 , -0.1345947 ]],\n",
       "\n",
       "        [[-0.02058449, -0.05946962, -0.00121751,  0.09487844,\n",
       "          -0.06039385,  0.01709029,  0.11260591,  0.05603798,\n",
       "           0.08786116,  0.03946169,  0.00090394,  0.0391062 ,\n",
       "           0.0091671 , -0.13718389, -0.02880858, -0.02920095,\n",
       "          -0.00136409,  0.0332031 ,  0.05596937, -0.0548527 ,\n",
       "          -0.09300558, -0.05160641, -0.07616317,  0.11042011,\n",
       "           0.09462906, -0.02586749,  0.10728807,  0.04352952,\n",
       "          -0.01171551, -0.00348839, -0.09818549,  0.03385166],\n",
       "         [-0.03126349, -0.0258802 ,  0.00545494,  0.05972714,\n",
       "          -0.10957214, -0.02341398, -0.07143166, -0.07442404,\n",
       "           0.12684001,  0.00086223, -0.03277662, -0.08976274,\n",
       "           0.08322097, -0.12543312,  0.09744833,  0.10540556,\n",
       "          -0.12288004, -0.11893176, -0.05225949,  0.08922233,\n",
       "          -0.07713346, -0.07594238, -0.00095504,  0.08249483,\n",
       "          -0.08118784, -0.06250969, -0.12701559,  0.00762145,\n",
       "           0.04458497,  0.07110721,  0.03824038,  0.021868  ],\n",
       "         [-0.02791129,  0.10325417, -0.10962063, -0.03863328,\n",
       "           0.11399311, -0.03465454,  0.13188307,  0.1305788 ,\n",
       "           0.09781046, -0.06521388,  0.09967896,  0.02607525,\n",
       "           0.12589163, -0.03974448, -0.0607632 , -0.0133862 ,\n",
       "          -0.04815856, -0.00801443,  0.04557355,  0.1104404 ,\n",
       "          -0.1033036 ,  0.0580807 , -0.10952136, -0.13797091,\n",
       "          -0.0839688 , -0.1378854 , -0.07595821, -0.11653148,\n",
       "           0.12284549, -0.06387039,  0.0284207 , -0.12513836]]],\n",
       "\n",
       "\n",
       "       [[[-0.02371817, -0.03048676, -0.06107264,  0.06392422,\n",
       "          -0.05555115,  0.06520443,  0.08227051, -0.11932008,\n",
       "          -0.07595787,  0.13031399, -0.10036311,  0.06441274,\n",
       "          -0.08872431,  0.03976095,  0.04029448, -0.03481856,\n",
       "           0.10457728,  0.07348863,  0.05167902,  0.04761621,\n",
       "           0.08616199, -0.01249374,  0.07999054,  0.03723357,\n",
       "          -0.07514652, -0.05939284,  0.12657997,  0.0063994 ,\n",
       "           0.04780019,  0.1328137 , -0.01351033, -0.03023457],\n",
       "         [ 0.08240487, -0.11967089, -0.12751208,  0.1309216 ,\n",
       "           0.1283667 ,  0.01350319, -0.01395105,  0.07617582,\n",
       "          -0.04096528,  0.1312477 ,  0.02808984,  0.0714208 ,\n",
       "           0.12988275,  0.03003361,  0.0244015 ,  0.00326303,\n",
       "          -0.04377832,  0.11855753, -0.07599649, -0.10202683,\n",
       "          -0.01370296,  0.11596487,  0.04652158,  0.02610301,\n",
       "           0.07608023,  0.12972939,  0.10942519, -0.06804807,\n",
       "          -0.04694188,  0.05026138,  0.10346615, -0.10570002],\n",
       "         [ 0.01850964,  0.08148817,  0.04095535,  0.00913665,\n",
       "           0.06041627,  0.01518227,  0.12712967, -0.04630528,\n",
       "          -0.07122116,  0.02450612, -0.1468837 ,  0.03807234,\n",
       "           0.08116844,  0.00636169, -0.09616536,  0.08251671,\n",
       "          -0.00797485, -0.12182062, -0.0216681 , -0.08593901,\n",
       "           0.11569137,  0.08589657, -0.05458488, -0.07994572,\n",
       "          -0.01936177, -0.03819202,  0.00561727, -0.12286132,\n",
       "          -0.03428311, -0.08377017, -0.09033759, -0.11887327]],\n",
       "\n",
       "        [[ 0.0334857 , -0.03370644, -0.10173152, -0.0922828 ,\n",
       "          -0.0186513 , -0.05635343,  0.04924133,  0.05270727,\n",
       "          -0.03482315, -0.04459045, -0.01239611,  0.09184136,\n",
       "           0.03156772,  0.05483992,  0.09460101,  0.06265584,\n",
       "          -0.09636579,  0.04076489, -0.01928977,  0.08655623,\n",
       "           0.08385891,  0.03927632,  0.01519274,  0.05775318,\n",
       "           0.07771609, -0.11641039, -0.04496904, -0.00952387,\n",
       "          -0.07971876,  0.1182051 ,  0.1179453 ,  0.03569201],\n",
       "         [-0.02142432,  0.11946245,  0.08944763,  0.09719305,\n",
       "          -0.11311522,  0.07645156,  0.09990995, -0.09492896,\n",
       "          -0.12748455,  0.04478967, -0.02793252,  0.0265244 ,\n",
       "          -0.14470086, -0.10373337,  0.05013245, -0.09487054,\n",
       "          -0.01513447, -0.07784645,  0.12747446, -0.07357059,\n",
       "           0.07952236,  0.06572589,  0.01071066,  0.04452033,\n",
       "          -0.04070965,  0.00784676, -0.06444818, -0.1084598 ,\n",
       "          -0.02303528,  0.07320476, -0.03745402, -0.05250929],\n",
       "         [-0.12209786, -0.00228708,  0.10218532, -0.09383367,\n",
       "           0.01654918, -0.08768349, -0.11966851,  0.11400708,\n",
       "          -0.00359687, -0.05330463,  0.01342508, -0.08139273,\n",
       "          -0.0179631 , -0.05419854,  0.06513212, -0.02842969,\n",
       "          -0.09114846, -0.10956639,  0.00383638, -0.01845514,\n",
       "           0.0666467 ,  0.12099785,  0.06021455, -0.07547118,\n",
       "          -0.1309162 ,  0.08517772,  0.06039903, -0.04723915,\n",
       "           0.05064752, -0.05336337, -0.03597114,  0.06019094]],\n",
       "\n",
       "        [[ 0.13031363,  0.0447986 , -0.115163  ,  0.11848295,\n",
       "           0.11168213, -0.12625371, -0.11748166, -0.12078623,\n",
       "           0.00488962,  0.0511514 ,  0.12768935,  0.12261765,\n",
       "          -0.01376758, -0.08379661, -0.08986003, -0.09366695,\n",
       "           0.01000784, -0.1211285 ,  0.08631934, -0.03666031,\n",
       "          -0.02999901, -0.0044173 , -0.01566095, -0.01965459,\n",
       "           0.12410724,  0.03227293, -0.03056601,  0.00331244,\n",
       "           0.01649185,  0.09801037, -0.1371487 , -0.03941445],\n",
       "         [ 0.02425989,  0.04791997,  0.10380997, -0.01428471,\n",
       "           0.07533711, -0.03720877,  0.04765126, -0.08622041,\n",
       "           0.06551594, -0.00903801, -0.00835764, -0.08226483,\n",
       "          -0.14114547,  0.0872006 , -0.0775715 , -0.13869461,\n",
       "           0.11550176, -0.05715534, -0.02465685,  0.11796199,\n",
       "           0.05149516, -0.00591787,  0.07938036, -0.08764713,\n",
       "           0.07910781,  0.02955702, -0.12597488,  0.00910136,\n",
       "           0.06641989, -0.0017729 ,  0.05602256, -0.0575037 ],\n",
       "         [-0.09162339, -0.02452693, -0.12085937, -0.12674674,\n",
       "           0.05294341, -0.01720945,  0.01204728, -0.00225028,\n",
       "          -0.11326349, -0.01342598,  0.08459533,  0.05324471,\n",
       "          -0.14093432, -0.01856001, -0.0447522 ,  0.12884776,\n",
       "           0.12323955,  0.03175721,  0.02068455,  0.06126313,\n",
       "           0.03148773, -0.01861346,  0.1022233 ,  0.07991946,\n",
       "          -0.03569799, -0.10355819, -0.05044829,  0.06308337,\n",
       "           0.07973703,  0.08952893,  0.12876433, -0.12143148]]],\n",
       "\n",
       "\n",
       "       [[[ 0.13210917,  0.10380175, -0.08640207, -0.06967723,\n",
       "          -0.01112931,  0.09987479, -0.06273774, -0.08983847,\n",
       "           0.00299117,  0.10913196,  0.05790572, -0.12911163,\n",
       "          -0.06396083, -0.09593084, -0.10420597, -0.12149487,\n",
       "          -0.07370362,  0.09862919,  0.04357507,  0.09780581,\n",
       "           0.10743728, -0.09730799,  0.00545661, -0.06904295,\n",
       "          -0.0396746 ,  0.07419372, -0.11434692,  0.0451628 ,\n",
       "           0.00850429, -0.13731237, -0.01265377, -0.1086814 ],\n",
       "         [-0.13952932, -0.02186581,  0.00401915,  0.09752413,\n",
       "           0.00263473, -0.07907166, -0.06809869,  0.00951769,\n",
       "           0.09012112,  0.02767568, -0.00147441, -0.0628064 ,\n",
       "          -0.02231019, -0.0554547 , -0.08988456, -0.00892306,\n",
       "          -0.00128219,  0.0013474 ,  0.02155464,  0.07921109,\n",
       "          -0.05048069, -0.06028242, -0.08956434, -0.03298119,\n",
       "           0.0385045 ,  0.0433644 , -0.06822491,  0.03235833,\n",
       "           0.05050017, -0.06898684, -0.0441531 ,  0.06651107],\n",
       "         [-0.03131138,  0.07040834, -0.08554783,  0.09982882,\n",
       "           0.09048239, -0.12336847, -0.06640368, -0.08999284,\n",
       "           0.032759  ,  0.12259524, -0.03298921, -0.10225704,\n",
       "          -0.14584929,  0.07559868,  0.11688707,  0.06735636,\n",
       "          -0.07196544,  0.01910222, -0.1307734 , -0.03974823,\n",
       "           0.00549029,  0.14137432, -0.02966021,  0.03390286,\n",
       "          -0.12755798, -0.08426089,  0.07812703, -0.02636585,\n",
       "           0.03083091, -0.1095506 , -0.04606137, -0.10939875]],\n",
       "\n",
       "        [[ 0.02588278, -0.10259948,  0.07700217, -0.12828186,\n",
       "           0.0335697 , -0.14015807, -0.0884916 ,  0.08657707,\n",
       "           0.10033614,  0.04294785,  0.07674824,  0.00311192,\n",
       "          -0.08349083, -0.01862307,  0.02652606,  0.02997171,\n",
       "           0.02186535, -0.03343427, -0.11639433,  0.13303398,\n",
       "           0.12508172, -0.08594199, -0.0253661 ,  0.03107313,\n",
       "          -0.11029106,  0.07628522,  0.09793744, -0.07274218,\n",
       "           0.10431936, -0.01887446, -0.07286388,  0.03182987],\n",
       "         [-0.04937869, -0.1187953 ,  0.10208734,  0.08361808,\n",
       "           0.01927206, -0.10772129, -0.09392657, -0.13580933,\n",
       "          -0.06057603, -0.00747208, -0.14708899,  0.11444786,\n",
       "           0.06210392,  0.12381081,  0.01434959,  0.01340418,\n",
       "           0.01170075,  0.00865038,  0.06174915, -0.11138963,\n",
       "           0.09365451, -0.08995716, -0.12904885, -0.01664724,\n",
       "           0.04136814, -0.02773115, -0.01443492, -0.06156006,\n",
       "          -0.06894472,  0.08922713,  0.01053526,  0.03002958],\n",
       "         [-0.1065286 , -0.08945199, -0.09572279, -0.12024209,\n",
       "           0.00937651, -0.11735999, -0.11734965, -0.10457497,\n",
       "          -0.05075777, -0.11411223, -0.0888447 , -0.0382772 ,\n",
       "           0.0335188 ,  0.0090724 ,  0.11096987,  0.02157581,\n",
       "           0.10867924, -0.06322775, -0.10059205, -0.03036596,\n",
       "           0.09695469,  0.094138  ,  0.02618779, -0.07895911,\n",
       "           0.00049552,  0.12370406,  0.12160443,  0.1089791 ,\n",
       "          -0.00780762, -0.05022847, -0.13522784, -0.05527773]],\n",
       "\n",
       "        [[-0.1246945 ,  0.01239603, -0.0525665 ,  0.05266159,\n",
       "           0.09050559, -0.0052123 , -0.10447101, -0.0476179 ,\n",
       "          -0.12420982,  0.01393282,  0.06130431, -0.01455214,\n",
       "          -0.10140876, -0.04902823, -0.0715531 ,  0.05704869,\n",
       "           0.01521935, -0.03393275,  0.06615212, -0.00728307,\n",
       "           0.10932603,  0.08896504,  0.06602243,  0.10599945,\n",
       "          -0.12081932,  0.06415349, -0.09238271,  0.11695708,\n",
       "           0.06729454, -0.10732414, -0.0880878 ,  0.00924662],\n",
       "         [ 0.0757895 ,  0.03766466, -0.13928404,  0.13103394,\n",
       "          -0.11712704,  0.02053583,  0.12686762,  0.01661999,\n",
       "           0.09573963,  0.07726268, -0.09392682, -0.12472973,\n",
       "          -0.11602052, -0.03754168, -0.12277374, -0.0162077 ,\n",
       "           0.00604961, -0.03241482,  0.0127521 ,  0.01015271,\n",
       "          -0.01885246, -0.10691994,  0.1280278 ,  0.08286515,\n",
       "          -0.10521493, -0.09525009, -0.00373417,  0.00175433,\n",
       "          -0.03373434, -0.13553602,  0.01527051, -0.10843272],\n",
       "         [-0.10181826, -0.09216186,  0.02786409, -0.02757431,\n",
       "          -0.0018833 ,  0.08164898,  0.06353201,  0.03994751,\n",
       "          -0.11840597, -0.05457161, -0.02992309,  0.02097113,\n",
       "          -0.04501681, -0.07440801, -0.01425501,  0.01579696,\n",
       "           0.07806888, -0.0793463 ,  0.08727696,  0.02672249,\n",
       "           0.07484239,  0.00993679, -0.11237068, -0.12645265,\n",
       "           0.10721807, -0.0535698 ,  0.01097128,  0.08713887,\n",
       "           0.1103975 ,  0.00304583,  0.01379259, -0.0214604 ]]]],\n",
       "      dtype=float32)"
      ]
     },
     "execution_count": 35,
     "metadata": {},
     "output_type": "execute_result"
    }
   ],
   "source": [
    "weight"
   ]
  },
  {
   "cell_type": "code",
   "execution_count": null,
   "metadata": {},
   "outputs": [],
   "source": []
  }
 ],
 "metadata": {
  "kernelspec": {
   "display_name": "Python 3",
   "language": "python",
   "name": "python3"
  },
  "language_info": {
   "codemirror_mode": {
    "name": "ipython",
    "version": 3
   },
   "file_extension": ".py",
   "mimetype": "text/x-python",
   "name": "python",
   "nbconvert_exporter": "python",
   "pygments_lexer": "ipython3",
   "version": "3.7.9"
  }
 },
 "nbformat": 4,
 "nbformat_minor": 2
}
