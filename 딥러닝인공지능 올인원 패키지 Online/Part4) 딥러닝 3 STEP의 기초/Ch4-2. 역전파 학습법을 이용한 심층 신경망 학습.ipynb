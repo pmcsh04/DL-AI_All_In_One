{
 "cells": [
  {
   "cell_type": "markdown",
   "metadata": {},
   "source": [
    "## 수치 미분을 이용한 심층 신경망 학습"
   ]
  },
  {
   "cell_type": "code",
   "execution_count": 1,
   "metadata": {},
   "outputs": [],
   "source": [
    "import time\n",
    "import numpy as np"
   ]
  },
  {
   "cell_type": "markdown",
   "metadata": {},
   "source": [
    "## 유틸리티 함수"
   ]
  },
  {
   "cell_type": "code",
   "execution_count": 7,
   "metadata": {},
   "outputs": [],
   "source": [
    "def _t(x):\n",
    "    return np.transpose(x)\n",
    "\n",
    "def _m(A, B):\n",
    "    return np.matmul(A, B)"
   ]
  },
  {
   "cell_type": "markdown",
   "metadata": {},
   "source": [
    "## Sigmoid 구현"
   ]
  },
  {
   "cell_type": "code",
   "execution_count": 8,
   "metadata": {},
   "outputs": [],
   "source": [
    "class Sigmoid: \n",
    "    def __init__(self):\n",
    "        self.last_o = 1\n",
    "        \n",
    "    def __call__(self, x):\n",
    "        self.last_o = 1 / (1.0 + np.exp(-x))\n",
    "        return self.last_o\n",
    "\n",
    "    def grad(self): # sigmoid(x)(1-sigmoid(x))\n",
    "        return self.last_o * (1 - self.last_o)"
   ]
  },
  {
   "cell_type": "markdown",
   "metadata": {},
   "source": [
    "## Mean Squared Error 구현"
   ]
  },
  {
   "cell_type": "code",
   "execution_count": 9,
   "metadata": {},
   "outputs": [],
   "source": [
    "class MeanSquaredError:\n",
    "    def __init__(self):\n",
    "        # gradient\n",
    "        self.dh = 1\n",
    "        self.last_diff = 1\n",
    "        \n",
    "    def __call__(self, h, y): # 1/2 * mean((h - y)^2)\n",
    "        self.last_diff = h - y\n",
    "        return 1 / 2 * np.mean(np.square(h - y))\n",
    "\n",
    "    def grad(self): # h - y \n",
    "        return self.last_diff"
   ]
  },
  {
   "cell_type": "markdown",
   "metadata": {},
   "source": [
    "## 뉴런 구현"
   ]
  },
  {
   "cell_type": "code",
   "execution_count": 10,
   "metadata": {},
   "outputs": [],
   "source": [
    "class Neuron:\n",
    "    def __init__(self, W, b, a_obj):\n",
    "        # Model parameters\n",
    "        self.W = W\n",
    "        self.b = b\n",
    "        self.a = a_obj()\n",
    "        \n",
    "        # gradient\n",
    "        self.dW = np.zeros_like(self.W)\n",
    "        self.db = np.zeros_like(self.b)\n",
    "        self.dh = np.zeros_like(_t(self.W))\n",
    "        \n",
    "        self.last_x = np.zeros((self.W.shape[0]))\n",
    "        self.last_h = np.zeros((self.W.shape[1]))\n",
    "\n",
    "    def __call__(self, x):\n",
    "        self.last_x = x\n",
    "        self.last_h = _m(_t(self.W), x) + self.b\n",
    "        return self.a(self.last_h)\n",
    "\n",
    "    def grad(self): # dy/dh = W\n",
    "        return self.W * self.a.grad()\n",
    "\n",
    "    def grad_W(self, dh): \n",
    "        grad = np.ones_like(self.W)\n",
    "        grad_a = self.a.grad()\n",
    "        for j in range(grad.shape[1]): # dy/dw =  x\n",
    "            grad[:, j] = dh[j] * grad_a[j] * self.last_x\n",
    "        return grad\n",
    "    \n",
    "    def grad_b(self, dh): # dy/dh = 1\n",
    "        return dh * self.a.grad()"
   ]
  },
  {
   "cell_type": "markdown",
   "metadata": {},
   "source": [
    "## 심층신경망 구현"
   ]
  },
  {
   "cell_type": "code",
   "execution_count": 11,
   "metadata": {},
   "outputs": [],
   "source": [
    "class DNN:\n",
    "    def __init__(self, hidden_depth, num_neuron, input, output, activation=Sigmoid):\n",
    "        def init_var(i, o):\n",
    "            return np.random.normal(0.0, 0.01, (i, o)), np.zeros((o,))\n",
    "\n",
    "        self.sequence = list()\n",
    "        # First hidden layer\n",
    "        W, b = init_var(input, num_neuron)\n",
    "        self.sequence.append(Neuron(W, b, activation))\n",
    "\n",
    "        # Hidden Layers\n",
    "        for index in range(hidden_depth):\n",
    "            W, b = init_var(num_neuron, num_neuron)\n",
    "            self.sequence.append(Neuron(W, b, activation))\n",
    "\n",
    "        # Output Layer\n",
    "        W, b = init_var(num_neuron, output)\n",
    "        self.sequence.append(Neuron(W, b, activation))\n",
    "\n",
    "    def __call__(self, x):\n",
    "        for layer in self.sequence:\n",
    "            x = layer(x)\n",
    "        return x\n",
    "\n",
    "    def calc_gradient(self, loss_obj):\n",
    "        loss_obj.dh = loss_obj.grad()\n",
    "        self.sequence.append(loss_obj)\n",
    "        \n",
    "        # back-prop loop\n",
    "        for i in range(len(self.sequence)-1, 0, -1):\n",
    "            l1 = self.sequence[i]\n",
    "            l0 = self.sequence[i - 1]\n",
    "            \n",
    "            l0.dh = _m(l0.grad(), l1.dh) \n",
    "            l0.dw = l0.grad_W(l1.dh)\n",
    "            l0.db = l0.grad_b(l1.dh)\n",
    "            \n",
    "        self.sequence.remove(loss_obj)"
   ]
  },
  {
   "cell_type": "markdown",
   "metadata": {},
   "source": [
    "## 경사하강 학습법"
   ]
  },
  {
   "cell_type": "code",
   "execution_count": 12,
   "metadata": {},
   "outputs": [],
   "source": [
    "def gradient_descent(network, x, y, loss_obj, alpha=0.01):\n",
    "    loss = loss_obj(network(x), y)  # Forward inference\n",
    "    network.calc_gradient(loss_obj)  # Back-propagation\n",
    "    for layer in network.sequence:\n",
    "        layer.W += -alpha * layer.dW\n",
    "        layer.b += -alpha * layer.db\n",
    "    return loss"
   ]
  },
  {
   "cell_type": "markdown",
   "metadata": {},
   "source": [
    "## 동작 테스트"
   ]
  },
  {
   "cell_type": "code",
   "execution_count": 13,
   "metadata": {},
   "outputs": [
    {
     "name": "stdout",
     "output_type": "stream",
     "text": [
      "Epoch 0: Test loss 1.6274243456901338\n",
      "Epoch 1: Test loss 1.6253912399655652\n",
      "Epoch 2: Test loss 1.6233604156366754\n",
      "Epoch 3: Test loss 1.6213319147237097\n",
      "Epoch 4: Test loss 1.619305778970983\n",
      "Epoch 5: Test loss 1.6172820498423444\n",
      "Epoch 6: Test loss 1.6152607685167149\n",
      "Epoch 7: Test loss 1.6132419758837224\n",
      "Epoch 8: Test loss 1.6112257125394085\n",
      "Epoch 9: Test loss 1.609212018782032\n",
      "Epoch 10: Test loss 1.6072009346079514\n",
      "Epoch 11: Test loss 1.6051924997076032\n",
      "Epoch 12: Test loss 1.6031867534615611\n",
      "Epoch 13: Test loss 1.6011837349366884\n",
      "Epoch 14: Test loss 1.5991834828823834\n",
      "Epoch 15: Test loss 1.5971860357269092\n",
      "Epoch 16: Test loss 1.5951914315738174\n",
      "Epoch 17: Test loss 1.593199708198468\n",
      "Epoch 18: Test loss 1.5912109030446346\n",
      "Epoch 19: Test loss 1.5892250532212087\n",
      "Epoch 20: Test loss 1.587242195498992\n",
      "Epoch 21: Test loss 1.5852623663075889\n",
      "Epoch 22: Test loss 1.583285601732385\n",
      "Epoch 23: Test loss 1.5813119375116274\n",
      "Epoch 24: Test loss 1.5793414090335958\n",
      "Epoch 25: Test loss 1.5773740513338672\n",
      "Epoch 26: Test loss 1.57540989909268\n",
      "Epoch 27: Test loss 1.5734489866323893\n",
      "Epoch 28: Test loss 1.5714913479150174\n",
      "Epoch 29: Test loss 1.5695370165399025\n",
      "Epoch 30: Test loss 1.5675860257414378\n",
      "Epoch 31: Test loss 1.5656384083869106\n",
      "Epoch 32: Test loss 1.5636941969744327\n",
      "Epoch 33: Test loss 1.5617534236309663\n",
      "Epoch 34: Test loss 1.5598161201104457\n",
      "Epoch 35: Test loss 1.5578823177919916\n",
      "Epoch 36: Test loss 1.5559520476782196\n",
      "Epoch 37: Test loss 1.5540253403936448\n",
      "Epoch 38: Test loss 1.5521022261831758\n",
      "Epoch 39: Test loss 1.5501827349107042\n",
      "Epoch 40: Test loss 1.5482668960577861\n",
      "Epoch 41: Test loss 1.5463547387224157\n",
      "Epoch 42: Test loss 1.54444629161789\n",
      "Epoch 43: Test loss 1.5425415830717633\n",
      "Epoch 44: Test loss 1.5406406410248965\n",
      "Epoch 45: Test loss 1.5387434930305894\n",
      "Epoch 46: Test loss 1.5368501662538079\n",
      "Epoch 47: Test loss 1.5349606874704977\n",
      "Epoch 48: Test loss 1.5330750830669837\n",
      "Epoch 49: Test loss 1.5311933790394605\n",
      "Epoch 50: Test loss 1.5293156009935647\n",
      "Epoch 51: Test loss 1.5274417741440365\n",
      "Epoch 52: Test loss 1.5255719233144636\n",
      "Epoch 53: Test loss 1.5237060729371088\n",
      "Epoch 54: Test loss 1.5218442470528226\n",
      "Epoch 55: Test loss 1.5199864693110345\n",
      "Epoch 56: Test loss 1.5181327629698296\n",
      "Epoch 57: Test loss 1.5162831508960994\n",
      "Epoch 58: Test loss 1.5144376555657795\n",
      "Epoch 59: Test loss 1.5125962990641577\n",
      "Epoch 60: Test loss 1.5107591030862646\n",
      "Epoch 61: Test loss 1.5089260889373382\n",
      "Epoch 62: Test loss 1.5070972775333629\n",
      "Epoch 63: Test loss 1.5052726894016843\n",
      "Epoch 64: Test loss 1.5034523446816959\n",
      "Epoch 65: Test loss 1.5016362631255977\n",
      "Epoch 66: Test loss 1.4998244640992247\n",
      "Epoch 67: Test loss 1.4980169665829468\n",
      "Epoch 68: Test loss 1.4962137891726355\n",
      "Epoch 69: Test loss 1.4944149500806985\n",
      "Epoch 70: Test loss 1.4926204671371806\n",
      "Epoch 71: Test loss 1.4908303577909279\n",
      "Epoch 72: Test loss 1.4890446391108192\n",
      "Epoch 73: Test loss 1.4872633277870557\n",
      "Epoch 74: Test loss 1.4854864401325156\n",
      "Epoch 75: Test loss 1.483713992084166\n",
      "Epoch 76: Test loss 1.4819459992045358\n",
      "Epoch 77: Test loss 1.480182476683245\n",
      "Epoch 78: Test loss 1.4784234393385909\n",
      "Epoch 79: Test loss 1.47666890161919\n",
      "Epoch 80: Test loss 1.4749188776056728\n",
      "Epoch 81: Test loss 1.4731733810124312\n",
      "Epoch 82: Test loss 1.4714324251894189\n",
      "Epoch 83: Test loss 1.4696960231240015\n",
      "Epoch 84: Test loss 1.4679641874428537\n",
      "Epoch 85: Test loss 1.4662369304139076\n",
      "Epoch 86: Test loss 1.464514263948344\n",
      "Epoch 87: Test loss 1.4627961996026313\n",
      "Epoch 88: Test loss 1.4610827485806084\n",
      "Epoch 89: Test loss 1.4593739217356085\n",
      "Epoch 90: Test loss 1.4576697295726269\n",
      "Epoch 91: Test loss 1.4559701822505273\n",
      "Epoch 92: Test loss 1.4542752895842868\n",
      "Epoch 93: Test loss 1.452585061047282\n",
      "Epoch 94: Test loss 1.450899505773608\n",
      "Epoch 95: Test loss 1.4492186325604344\n",
      "Epoch 96: Test loss 1.4475424498703957\n",
      "Epoch 97: Test loss 1.4458709658340165\n",
      "Epoch 98: Test loss 1.4442041882521632\n",
      "Epoch 99: Test loss 1.442542124598532\n",
      "0.14165592193603516 seconds elapsed.\n"
     ]
    }
   ],
   "source": [
    "x = np.random.normal(0.0, 1.0, (10,))\n",
    "y = np.random.normal(0.0, 1.0, (2,))\n",
    "\n",
    "t = time.time()\n",
    "dnn = DNN(hidden_depth=5, num_neuron=32, input=10, output=2, activation=Sigmoid)\n",
    "loss_obj = MeanSquaredError()\n",
    "for epoch in range(100):\n",
    "    loss = gradient_descent(dnn, x, y, loss_obj, alpha=0.01)\n",
    "    print('Epoch {}: Test loss {}'.format(epoch, loss))\n",
    "print('{} seconds elapsed.'.format(time.time() - t))"
   ]
  }
 ],
 "metadata": {
  "kernelspec": {
   "display_name": "Python 3",
   "language": "python",
   "name": "python3"
  },
  "language_info": {
   "codemirror_mode": {
    "name": "ipython",
    "version": 3
   },
   "file_extension": ".py",
   "mimetype": "text/x-python",
   "name": "python",
   "nbconvert_exporter": "python",
   "pygments_lexer": "ipython3",
   "version": "3.7.9"
  }
 },
 "nbformat": 4,
 "nbformat_minor": 2
}
